{
  "nbformat": 4,
  "nbformat_minor": 0,
  "metadata": {
    "colab": {
      "provenance": [],
      "authorship_tag": "ABX9TyMoNbD53fJhcFIKDjblTlBs",
      "include_colab_link": true
    },
    "kernelspec": {
      "name": "python3",
      "display_name": "Python 3"
    },
    "language_info": {
      "name": "python"
    }
  },
  "cells": [
    {
      "cell_type": "markdown",
      "metadata": {
        "id": "view-in-github",
        "colab_type": "text"
      },
      "source": [
        "<a href=\"https://colab.research.google.com/github/leynessa/ds_projects/blob/main/nlp_with_nltk.ipynb\" target=\"_parent\"><img src=\"https://colab.research.google.com/assets/colab-badge.svg\" alt=\"Open In Colab\"/></a>"
      ]
    },
    {
      "cell_type": "code",
      "execution_count": 20,
      "metadata": {
        "id": "9erjwuc3DWx6"
      },
      "outputs": [],
      "source": [
        "import nltk\n",
        "import spacy\n",
        "nlp = spacy.load('en_core_web_sm')"
      ]
    },
    {
      "cell_type": "code",
      "source": [
        "from nltk.stem.porter import PorterStemmer"
      ],
      "metadata": {
        "id": "eG0Dr8HmDdhN"
      },
      "execution_count": 21,
      "outputs": []
    },
    {
      "cell_type": "code",
      "source": [
        "p_stemmer = PorterStemmer()"
      ],
      "metadata": {
        "id": "0uumgNDJDjR_"
      },
      "execution_count": 22,
      "outputs": []
    },
    {
      "cell_type": "code",
      "source": [
        "words = [\"run\", \"running\", \"runner\", \"ran\", \"runs\", \"fairly\"]\n",
        "doc =nlp (\"I am a runner, running, in the valley. My runs are fairly great. I ran yesterday\")"
      ],
      "metadata": {
        "id": "96jkvnjqDps-"
      },
      "execution_count": 24,
      "outputs": []
    },
    {
      "cell_type": "code",
      "source": [
        "for word in words:\n",
        "  print(word + \"---->\" + p_stemmer.stem(word))"
      ],
      "metadata": {
        "colab": {
          "base_uri": "https://localhost:8080/"
        },
        "id": "UTmZyFWMEd58",
        "outputId": "8d896078-b953-48d1-e4f1-97809a2cd3ba"
      },
      "execution_count": 13,
      "outputs": [
        {
          "output_type": "stream",
          "name": "stdout",
          "text": [
            "run---->run\n",
            "running---->run\n",
            "runner---->runner\n",
            "ran---->ran\n",
            "runs---->run\n",
            "fairly---->fairli\n"
          ]
        }
      ]
    },
    {
      "cell_type": "code",
      "source": [
        "from nltk.stem.snowball import SnowballStemmer"
      ],
      "metadata": {
        "id": "J8V2CWehEtl3"
      },
      "execution_count": 25,
      "outputs": []
    },
    {
      "cell_type": "code",
      "source": [
        "s_stemmer = SnowballStemmer(language='english')"
      ],
      "metadata": {
        "id": "oz-sCm6dFWx_"
      },
      "execution_count": 26,
      "outputs": []
    },
    {
      "cell_type": "code",
      "source": [
        "for word in words:\n",
        "  print(word + \"---->\" + s_stemmer.stem(word))"
      ],
      "metadata": {
        "colab": {
          "base_uri": "https://localhost:8080/"
        },
        "id": "n3p0Vm_lFgGb",
        "outputId": "2cc92a9d-a1f3-41bb-e527-e5d6f4a89295"
      },
      "execution_count": 27,
      "outputs": [
        {
          "output_type": "stream",
          "name": "stdout",
          "text": [
            "run---->run\n",
            "running---->run\n",
            "runner---->runner\n",
            "ran---->ran\n",
            "runs---->run\n",
            "fairly---->fair\n"
          ]
        }
      ]
    },
    {
      "cell_type": "code",
      "source": [
        "\n",
        "for token in doc:\n",
        "  print(f'{token.text:{12}} {token.lemma:<{22}} {token.lemma_}')"
      ],
      "metadata": {
        "colab": {
          "base_uri": "https://localhost:8080/"
        },
        "id": "q6AkaT0wFrQw",
        "outputId": "c218386c-0388-4e86-b817-574576d3f685"
      },
      "execution_count": 28,
      "outputs": [
        {
          "output_type": "stream",
          "name": "stdout",
          "text": [
            "I            4690420944186131903    I\n",
            "am           10382539506755952630   be\n",
            "a            11901859001352538922   a\n",
            "runner       12640964157389618806   runner\n",
            ",            2593208677638477497    ,\n",
            "running      12767647472892411841   run\n",
            ",            2593208677638477497    ,\n",
            "in           3002984154512732771    in\n",
            "the          7425985699627899538    the\n",
            "valley       6722588375942514397    valley\n",
            ".            12646065887601541794   .\n",
            "My           227504873216781231     my\n",
            "runs         12767647472892411841   run\n",
            "are          10382539506755952630   be\n",
            "fairly       17576046047103189829   fairly\n",
            "great        8881679497796027013    great\n",
            ".            12646065887601541794   .\n",
            "I            4690420944186131903    I\n",
            "ran          12767647472892411841   run\n",
            "yesterday    1756787072497230782    yesterday\n"
          ]
        }
      ]
    },
    {
      "cell_type": "code",
      "source": [
        "#matcher\n",
        "from spacy.matcher import Matcher"
      ],
      "metadata": {
        "id": "E2xhXTXwHbtJ"
      },
      "execution_count": 30,
      "outputs": []
    },
    {
      "cell_type": "code",
      "source": [
        "matcher = Matcher(nlp.vocab)"
      ],
      "metadata": {
        "id": "SMjKR4ljLdHs"
      },
      "execution_count": 31,
      "outputs": []
    },
    {
      "cell_type": "code",
      "source": [
        "pattern1 = [{'LOWER': 'attentiondeficit'}] #attentiondeficit\n",
        "pattern2=[{'LOWER': 'attention'}, {'IS_PUNCT': True}, {'LOWER': 'deficit'}] #attention-deficit\n",
        "pattern3=[{'LOWER': 'attention'}, {'LOWER': 'deficit'}] #attention deficit"
      ],
      "metadata": {
        "id": "Mmp7io8eLi2T"
      },
      "execution_count": 32,
      "outputs": []
    },
    {
      "cell_type": "code",
      "source": [
        "matcher.add('attentiondeficit',[pattern1, pattern2,pattern3])\n"
      ],
      "metadata": {
        "id": "YVv0rf-0Q1nc"
      },
      "execution_count": 34,
      "outputs": []
    },
    {
      "cell_type": "code",
      "source": [
        "with open('../content/S1807593222022116.txt', encoding= 'unicode_escape') as file:\n",
        "  doc1= nlp(file.read())"
      ],
      "metadata": {
        "id": "rEYJObGNZnsg"
      },
      "execution_count": 57,
      "outputs": []
    },
    {
      "cell_type": "code",
      "source": [
        "with open('../content/ac2022b3_sample.txt', encoding= 'unicode_escape') as file:\n",
        "  doc2= nlp(file.read())"
      ],
      "metadata": {
        "id": "8VWu23dgbO9Q"
      },
      "execution_count": 58,
      "outputs": []
    },
    {
      "cell_type": "code",
      "source": [
        "found_matches1= matcher(doc1)\n",
        "print(found_matches1)"
      ],
      "metadata": {
        "colab": {
          "base_uri": "https://localhost:8080/"
        },
        "id": "GZFdvx6yboWk",
        "outputId": "3c64c893-0c53-4cb5-91dc-443f83ae41bd"
      },
      "execution_count": 60,
      "outputs": [
        {
          "output_type": "stream",
          "name": "stdout",
          "text": [
            "[(14786440380181696465, 11, 13), (14786440380181696465, 180, 182), (14786440380181696465, 1493, 1496), (14786440380181696465, 1581, 1584), (14786440380181696465, 1624, 1627), (14786440380181696465, 1655, 1658), (14786440380181696465, 1703, 1706), (14786440380181696465, 1754, 1757), (14786440380181696465, 1786, 1789), (14786440380181696465, 1842, 1845), (14786440380181696465, 1903, 1906), (14786440380181696465, 1966, 1969), (14786440380181696465, 2008, 2009), (14786440380181696465, 2042, 2045)]\n"
          ]
        }
      ]
    },
    {
      "cell_type": "code",
      "source": [
        "found_matches2= matcher(doc2)\n",
        "print(found_matches2)"
      ],
      "metadata": {
        "colab": {
          "base_uri": "https://localhost:8080/"
        },
        "id": "TjBDU_wnUDxE",
        "outputId": "4c57f6c9-5dcc-4686-bd4a-12994a40ab1a"
      },
      "execution_count": 59,
      "outputs": [
        {
          "output_type": "stream",
          "name": "stdout",
          "text": [
            "[(14786440380181696465, 0, 3), (14786440380181696465, 76, 79), (14786440380181696465, 202, 205), (14786440380181696465, 258, 261), (14786440380181696465, 790, 793), (14786440380181696465, 824, 827), (14786440380181696465, 843, 846), (14786440380181696465, 872, 874), (14786440380181696465, 1969, 1972), (14786440380181696465, 2119, 2122), (14786440380181696465, 2176, 2179), (14786440380181696465, 3080, 3083), (14786440380181696465, 3125, 3127), (14786440380181696465, 5309, 5312), (14786440380181696465, 5960, 5963), (14786440380181696465, 6996, 6999), (14786440380181696465, 7878, 7881), (14786440380181696465, 9688, 9691), (14786440380181696465, 10646, 10649), (14786440380181696465, 11178, 11181), (14786440380181696465, 11555, 11558), (14786440380181696465, 11624, 11627), (14786440380181696465, 11669, 11672), (14786440380181696465, 11821, 11824), (14786440380181696465, 11899, 11901), (14786440380181696465, 12174, 12176), (14786440380181696465, 12271, 12273), (14786440380181696465, 12427, 12429), (14786440380181696465, 12462, 12465), (14786440380181696465, 12524, 12526), (14786440380181696465, 12544, 12547), (14786440380181696465, 12566, 12569), (14786440380181696465, 12604, 12606), (14786440380181696465, 12637, 12640), (14786440380181696465, 12685, 12687), (14786440380181696465, 12821, 12824), (14786440380181696465, 12859, 12862), (14786440380181696465, 12907, 12909), (14786440380181696465, 12937, 12939), (14786440380181696465, 12968, 12971), (14786440380181696465, 13075, 13078), (14786440380181696465, 13196, 13199), (14786440380181696465, 15042, 15045), (14786440380181696465, 15345, 15348), (14786440380181696465, 15364, 15367), (14786440380181696465, 15383, 15386)]\n"
          ]
        }
      ]
    },
    {
      "cell_type": "code",
      "source": [
        "#match phrases\n",
        "phrase_list = ['attention deficit hyperactivity disorder', 'ADD', 'ADHD']\n",
        "phrase_patterns = [nlp(text) for text in phrase_list]"
      ],
      "metadata": {
        "id": "DWdkmZvqbzGN"
      },
      "execution_count": 70,
      "outputs": []
    },
    {
      "cell_type": "code",
      "source": [
        "phrase_patterns[0]"
      ],
      "metadata": {
        "colab": {
          "base_uri": "https://localhost:8080/"
        },
        "id": "n9a2jQF0dOWM",
        "outputId": "db5e948e-fa2a-4f3d-e631-e10f518f6872"
      },
      "execution_count": 71,
      "outputs": [
        {
          "output_type": "execute_result",
          "data": {
            "text/plain": [
              "attention deficit hyperactivity disorder"
            ]
          },
          "metadata": {},
          "execution_count": 71
        }
      ]
    },
    {
      "cell_type": "code",
      "source": [
        "\n",
        "phrase_patterns = [\n",
        "    [{\"LOWER\": \"attention\"}, {\"LOWER\": \"deficit\"}, {\"LOWER\": \"hyperactivity\"}, {\"LOWER\": \"disorder\"}],\n",
        "    [{\"LOWER\": \"add\"}],\n",
        "    [{\"LOWER\": \"adhd\"}]\n",
        "]\n",
        "\n",
        "matcher.add(\"adhdmatcher\", phrase_patterns)"
      ],
      "metadata": {
        "id": "dWqMrgsLdTrc"
      },
      "execution_count": 78,
      "outputs": []
    },
    {
      "cell_type": "code",
      "source": [
        "found_matches3= matcher(doc2)\n",
        "print(found_matches3)"
      ],
      "metadata": {
        "colab": {
          "base_uri": "https://localhost:8080/"
        },
        "id": "uBJmA716eorb",
        "outputId": "1c745101-b6d2-4926-c169-edf80ba6c054"
      },
      "execution_count": 84,
      "outputs": [
        {
          "output_type": "stream",
          "name": "stdout",
          "text": [
            "[(2260475748468505195, 83, 84), (2260475748468505195, 111, 112), (2260475748468505195, 128, 129), (2260475748468505195, 142, 143), (2260475748468505195, 186, 187), (2260475748468505195, 200, 201), (2260475748468505195, 265, 266), (2260475748468505195, 327, 328), (2260475748468505195, 353, 354), (2260475748468505195, 377, 378), (2260475748468505195, 403, 404), (2260475748468505195, 439, 440), (2260475748468505195, 456, 457), (2260475748468505195, 467, 468), (2260475748468505195, 487, 488), (2260475748468505195, 499, 500), (2260475748468505195, 526, 527), (2260475748468505195, 549, 550), (2260475748468505195, 620, 621), (2260475748468505195, 633, 634), (2260475748468505195, 872, 876), (2260475748468505195, 896, 897), (2260475748468505195, 905, 906), (2260475748468505195, 940, 941), (2260475748468505195, 976, 977), (2260475748468505195, 1005, 1006), (2260475748468505195, 1024, 1025), (2260475748468505195, 1096, 1097), (2260475748468505195, 1112, 1113), (2260475748468505195, 1174, 1175), (2260475748468505195, 1228, 1229), (2260475748468505195, 1242, 1243), (2260475748468505195, 1255, 1256), (2260475748468505195, 1297, 1298), (2260475748468505195, 1325, 1326), (2260475748468505195, 1333, 1334), (2260475748468505195, 1372, 1373), (2260475748468505195, 1398, 1399), (2260475748468505195, 1516, 1517), (2260475748468505195, 1528, 1529), (2260475748468505195, 1749, 1750), (2260475748468505195, 1784, 1785), (2260475748468505195, 1888, 1889), (2260475748468505195, 1938, 1939), (2260475748468505195, 1976, 1977), (2260475748468505195, 1985, 1986), (2260475748468505195, 1999, 2000), (2260475748468505195, 2058, 2059), (2260475748468505195, 2088, 2089), (2260475748468505195, 2146, 2147), (2260475748468505195, 2227, 2228), (2260475748468505195, 2266, 2267), (2260475748468505195, 2291, 2292), (2260475748468505195, 2300, 2301), (2260475748468505195, 2333, 2334), (2260475748468505195, 2457, 2458), (2260475748468505195, 2492, 2493), (2260475748468505195, 2546, 2547), (2260475748468505195, 2670, 2671), (2260475748468505195, 2697, 2698), (2260475748468505195, 2715, 2716), (2260475748468505195, 2769, 2770), (2260475748468505195, 2776, 2777), (2260475748468505195, 2817, 2818), (2260475748468505195, 2916, 2917), (2260475748468505195, 2952, 2953), (2260475748468505195, 3087, 3088), (2260475748468505195, 3099, 3100), (2260475748468505195, 3125, 3129), (2260475748468505195, 3157, 3158), (2260475748468505195, 3165, 3166), (2260475748468505195, 3179, 3180), (2260475748468505195, 3363, 3364), (2260475748468505195, 3482, 3483), (2260475748468505195, 3589, 3590), (2260475748468505195, 3823, 3824), (2260475748468505195, 3930, 3931), (2260475748468505195, 3936, 3937), (2260475748468505195, 4055, 4056), (2260475748468505195, 4112, 4113), (2260475748468505195, 4132, 4133), (2260475748468505195, 4477, 4478), (2260475748468505195, 4527, 4528), (2260475748468505195, 4811, 4812), (2260475748468505195, 4838, 4839), (2260475748468505195, 4876, 4877), (2260475748468505195, 4941, 4942), (2260475748468505195, 4947, 4948), (2260475748468505195, 4955, 4956), (2260475748468505195, 4963, 4964), (2260475748468505195, 4972, 4973), (2260475748468505195, 4977, 4978), (2260475748468505195, 4982, 4983), (2260475748468505195, 4990, 4991), (2260475748468505195, 4998, 4999), (2260475748468505195, 5006, 5007), (2260475748468505195, 5014, 5015), (2260475748468505195, 5219, 5220), (2260475748468505195, 5257, 5258), (2260475748468505195, 5277, 5278), (2260475748468505195, 5307, 5308), (2260475748468505195, 5470, 5471), (2260475748468505195, 5479, 5480), (2260475748468505195, 5499, 5500), (2260475748468505195, 5641, 5642), (2260475748468505195, 5652, 5653), (2260475748468505195, 5663, 5664), (2260475748468505195, 5669, 5670), (2260475748468505195, 5675, 5676), (2260475748468505195, 5786, 5787), (2260475748468505195, 5810, 5811), (2260475748468505195, 5841, 5842), (2260475748468505195, 5866, 5867), (2260475748468505195, 5901, 5902), (2260475748468505195, 5916, 5917), (2260475748468505195, 5958, 5959), (2260475748468505195, 6091, 6092), (2260475748468505195, 6112, 6113), (2260475748468505195, 6471, 6472), (2260475748468505195, 6553, 6554), (2260475748468505195, 6791, 6792), (2260475748468505195, 6929, 6930), (2260475748468505195, 7003, 7004), (2260475748468505195, 7046, 7047), (2260475748468505195, 7158, 7159), (2260475748468505195, 7374, 7375), (2260475748468505195, 7687, 7688), (2260475748468505195, 7786, 7787), (2260475748468505195, 7876, 7877), (2260475748468505195, 8186, 8187), (2260475748468505195, 8310, 8311), (2260475748468505195, 8327, 8328), (2260475748468505195, 8370, 8371), (2260475748468505195, 8519, 8520), (2260475748468505195, 8786, 8787), (2260475748468505195, 9302, 9303), (2260475748468505195, 9834, 9835), (2260475748468505195, 9842, 9843), (2260475748468505195, 9901, 9902), (2260475748468505195, 9919, 9920), (2260475748468505195, 10008, 10009), (2260475748468505195, 10074, 10075), (2260475748468505195, 10150, 10151), (2260475748468505195, 10252, 10253), (2260475748468505195, 10402, 10403), (2260475748468505195, 10565, 10566), (2260475748468505195, 10573, 10574), (2260475748468505195, 10610, 10611), (2260475748468505195, 10743, 10744), (2260475748468505195, 10795, 10796), (2260475748468505195, 11230, 11231), (2260475748468505195, 11334, 11335), (2260475748468505195, 11440, 11441), (2260475748468505195, 11455, 11456), (2260475748468505195, 11525, 11526), (2260475748468505195, 11584, 11585), (2260475748468505195, 11688, 11689), (2260475748468505195, 11696, 11697), (2260475748468505195, 11721, 11722), (2260475748468505195, 11813, 11814), (2260475748468505195, 11899, 11903), (2260475748468505195, 11935, 11936), (2260475748468505195, 11977, 11978), (2260475748468505195, 12007, 12008), (2260475748468505195, 12050, 12051), (2260475748468505195, 12143, 12144), (2260475748468505195, 12195, 12196), (2260475748468505195, 12271, 12275), (2260475748468505195, 12317, 12318), (2260475748468505195, 12321, 12322), (2260475748468505195, 12370, 12371), (2260475748468505195, 12427, 12431), (2260475748468505195, 12488, 12489), (2260475748468505195, 12500, 12501), (2260475748468505195, 12524, 12528), (2260475748468505195, 12604, 12608), (2260475748468505195, 12609, 12610), (2260475748468505195, 12745, 12746), (2260475748468505195, 12780, 12781), (2260475748468505195, 12907, 12911), (2260475748468505195, 12937, 12941), (2260475748468505195, 12981, 12982), (2260475748468505195, 13004, 13005), (2260475748468505195, 13039, 13040), (2260475748468505195, 13121, 13122), (2260475748468505195, 13159, 13160), (2260475748468505195, 13299, 13300), (2260475748468505195, 13467, 13468), (2260475748468505195, 13539, 13540), (2260475748468505195, 13616, 13617), (2260475748468505195, 13622, 13623), (2260475748468505195, 13652, 13653), (2260475748468505195, 13813, 13814), (2260475748468505195, 13844, 13845), (2260475748468505195, 13852, 13853), (2260475748468505195, 13877, 13878), (2260475748468505195, 13974, 13975), (2260475748468505195, 13999, 14000), (2260475748468505195, 14130, 14131), (2260475748468505195, 14239, 14240), (2260475748468505195, 14278, 14279), (2260475748468505195, 14289, 14290), (2260475748468505195, 14308, 14309), (2260475748468505195, 14320, 14321), (2260475748468505195, 14335, 14336), (2260475748468505195, 14611, 14612), (2260475748468505195, 14630, 14631), (2260475748468505195, 14643, 14644), (2260475748468505195, 14663, 14664), (2260475748468505195, 14708, 14709), (2260475748468505195, 14731, 14732), (2260475748468505195, 14835, 14836), (2260475748468505195, 14886, 14887), (2260475748468505195, 15034, 15035)]\n"
          ]
        }
      ]
    },
    {
      "cell_type": "code",
      "source": [
        "for match_id, start, end in found_matches3:\n",
        "    string_id = nlp.vocab.strings[match_id]\n",
        "    matched_span = doc1[start:end]\n",
        "    print(f\"Match found: {matched_span.text}, \\\\\\match ID: {match_id}, \\\\\\\\\\string id: {string_id}\" )"
      ],
      "metadata": {
        "colab": {
          "base_uri": "https://localhost:8080/"
        },
        "id": "1axs7d5Te2yA",
        "outputId": "b939885c-56fd-4777-c75a-803490ec1366"
      },
      "execution_count": 85,
      "outputs": [
        {
          "output_type": "stream",
          "name": "stdout",
          "text": [
            "Match found: FMUSP, \\\\match ID: 2260475748468505195, \\\\\\string id: adhdmatcher\n",
            "Match found: /, \\\\match ID: 2260475748468505195, \\\\\\string id: adhdmatcher\n",
            "Match found: Paulo, \\\\match ID: 2260475748468505195, \\\\\\string id: adhdmatcher\n",
            "Match found: ,, \\\\match ID: 2260475748468505195, \\\\\\string id: adhdmatcher\n",
            "Match found: ), \\\\match ID: 2260475748468505195, \\\\\\string id: adhdmatcher\n",
            "Match found: on, \\\\match ID: 2260475748468505195, \\\\\\string id: adhdmatcher\n",
            "Match found: current, \\\\match ID: 2260475748468505195, \\\\\\string id: adhdmatcher\n",
            "Match found: presentation, \\\\match ID: 2260475748468505195, \\\\\\string id: adhdmatcher\n",
            "Match found: life, \\\\match ID: 2260475748468505195, \\\\\\string id: adhdmatcher\n",
            "Match found: has, \\\\match ID: 2260475748468505195, \\\\\\string id: adhdmatcher\n",
            "Match found: accidents, \\\\match ID: 2260475748468505195, \\\\\\string id: adhdmatcher\n",
            "Match found: disorders, \\\\match ID: 2260475748468505195, \\\\\\string id: adhdmatcher\n",
            "Match found: to, \\\\match ID: 2260475748468505195, \\\\\\string id: adhdmatcher\n",
            "Match found: inattention, \\\\match ID: 2260475748468505195, \\\\\\string id: adhdmatcher\n",
            "Match found: ), \\\\match ID: 2260475748468505195, \\\\\\string id: adhdmatcher\n",
            "Match found: academic, \\\\match ID: 2260475748468505195, \\\\\\string id: adhdmatcher\n",
            "Match found: ., \\\\match ID: 2260475748468505195, \\\\\\string id: adhdmatcher\n",
            "Match found: 55, \\\\match ID: 2260475748468505195, \\\\\\string id: adhdmatcher\n",
            "Match found: are, \\\\match ID: 2260475748468505195, \\\\\\string id: adhdmatcher\n",
            "Match found: diagnosis, \\\\match ID: 2260475748468505195, \\\\\\string id: adhdmatcher\n",
            "Match found: ADHD (9,10), \\\\match ID: 2260475748468505195, \\\\\\string id: adhdmatcher\n",
            "Match found: in, \\\\match ID: 2260475748468505195, \\\\\\string id: adhdmatcher\n",
            "Match found: the, \\\\match ID: 2260475748468505195, \\\\\\string id: adhdmatcher\n",
            "Match found: executive, \\\\match ID: 2260475748468505195, \\\\\\string id: adhdmatcher\n",
            "Match found: cardinal, \\\\match ID: 2260475748468505195, \\\\\\string id: adhdmatcher\n",
            "Match found: treatment, \\\\match ID: 2260475748468505195, \\\\\\string id: adhdmatcher\n",
            "Match found: several, \\\\match ID: 2260475748468505195, \\\\\\string id: adhdmatcher\n",
            "Match found: and, \\\\match ID: 2260475748468505195, \\\\\\string id: adhdmatcher\n",
            "Match found: for, \\\\match ID: 2260475748468505195, \\\\\\string id: adhdmatcher\n",
            "Match found: to, \\\\match ID: 2260475748468505195, \\\\\\string id: adhdmatcher\n",
            "Match found: extensively, \\\\match ID: 2260475748468505195, \\\\\\string id: adhdmatcher\n",
            "Match found: Children, \\\\match ID: 2260475748468505195, \\\\\\string id: adhdmatcher\n",
            "Match found: of, \\\\match ID: 2260475748468505195, \\\\\\string id: adhdmatcher\n",
            "Match found: %, \\\\match ID: 2260475748468505195, \\\\\\string id: adhdmatcher\n",
            "Match found: recognition, \\\\match ID: 2260475748468505195, \\\\\\string id: adhdmatcher\n",
            "Match found: actively, \\\\match ID: 2260475748468505195, \\\\\\string id: adhdmatcher\n",
            "Match found: and, \\\\match ID: 2260475748468505195, \\\\\\string id: adhdmatcher\n",
            "Match found: has, \\\\match ID: 2260475748468505195, \\\\\\string id: adhdmatcher\n",
            "Match found: Medical, \\\\match ID: 2260475748468505195, \\\\\\string id: adhdmatcher\n",
            "Match found: Polanczyk, \\\\match ID: 2260475748468505195, \\\\\\string id: adhdmatcher\n",
            "Match found: chromosomal, \\\\match ID: 2260475748468505195, \\\\\\string id: adhdmatcher\n",
            "Match found: Neuroscience, \\\\match ID: 2260475748468505195, \\\\\\string id: adhdmatcher\n",
            "Match found: the, \\\\match ID: 2260475748468505195, \\\\\\string id: adhdmatcher\n",
            "Match found: CW, \\\\match ID: 2260475748468505195, \\\\\\string id: adhdmatcher\n",
            "Match found: Child, \\\\match ID: 2260475748468505195, \\\\\\string id: adhdmatcher\n",
            "Match found: ., \\\\match ID: 2260475748468505195, \\\\\\string id: adhdmatcher\n",
            "Match found: the, \\\\match ID: 2260475748468505195, \\\\\\string id: adhdmatcher\n",
            "Match found: Psychiatry, \\\\match ID: 2260475748468505195, \\\\\\string id: adhdmatcher\n",
            "Match found: using, \\\\match ID: 2260475748468505195, \\\\\\string id: adhdmatcher\n",
            "Match found: ,, \\\\match ID: 2260475748468505195, \\\\\\string id: adhdmatcher\n",
            "Match found: , \\\\match ID: 2260475748468505195, \\\\\\string id: adhdmatcher\n",
            "Match found: , \\\\match ID: 2260475748468505195, \\\\\\string id: adhdmatcher\n",
            "Match found: , \\\\match ID: 2260475748468505195, \\\\\\string id: adhdmatcher\n",
            "Match found: , \\\\match ID: 2260475748468505195, \\\\\\string id: adhdmatcher\n",
            "Match found: , \\\\match ID: 2260475748468505195, \\\\\\string id: adhdmatcher\n",
            "Match found: , \\\\match ID: 2260475748468505195, \\\\\\string id: adhdmatcher\n",
            "Match found: , \\\\match ID: 2260475748468505195, \\\\\\string id: adhdmatcher\n",
            "Match found: , \\\\match ID: 2260475748468505195, \\\\\\string id: adhdmatcher\n",
            "Match found: , \\\\match ID: 2260475748468505195, \\\\\\string id: adhdmatcher\n",
            "Match found: , \\\\match ID: 2260475748468505195, \\\\\\string id: adhdmatcher\n",
            "Match found: , \\\\match ID: 2260475748468505195, \\\\\\string id: adhdmatcher\n",
            "Match found: , \\\\match ID: 2260475748468505195, \\\\\\string id: adhdmatcher\n",
            "Match found: , \\\\match ID: 2260475748468505195, \\\\\\string id: adhdmatcher\n",
            "Match found: , \\\\match ID: 2260475748468505195, \\\\\\string id: adhdmatcher\n",
            "Match found: , \\\\match ID: 2260475748468505195, \\\\\\string id: adhdmatcher\n",
            "Match found: , \\\\match ID: 2260475748468505195, \\\\\\string id: adhdmatcher\n",
            "Match found: , \\\\match ID: 2260475748468505195, \\\\\\string id: adhdmatcher\n",
            "Match found: , \\\\match ID: 2260475748468505195, \\\\\\string id: adhdmatcher\n",
            "Match found: , \\\\match ID: 2260475748468505195, \\\\\\string id: adhdmatcher\n",
            "Match found: , \\\\match ID: 2260475748468505195, \\\\\\string id: adhdmatcher\n",
            "Match found: , \\\\match ID: 2260475748468505195, \\\\\\string id: adhdmatcher\n",
            "Match found: , \\\\match ID: 2260475748468505195, \\\\\\string id: adhdmatcher\n",
            "Match found: , \\\\match ID: 2260475748468505195, \\\\\\string id: adhdmatcher\n",
            "Match found: , \\\\match ID: 2260475748468505195, \\\\\\string id: adhdmatcher\n",
            "Match found: , \\\\match ID: 2260475748468505195, \\\\\\string id: adhdmatcher\n",
            "Match found: , \\\\match ID: 2260475748468505195, \\\\\\string id: adhdmatcher\n",
            "Match found: , \\\\match ID: 2260475748468505195, \\\\\\string id: adhdmatcher\n",
            "Match found: , \\\\match ID: 2260475748468505195, \\\\\\string id: adhdmatcher\n",
            "Match found: , \\\\match ID: 2260475748468505195, \\\\\\string id: adhdmatcher\n",
            "Match found: , \\\\match ID: 2260475748468505195, \\\\\\string id: adhdmatcher\n",
            "Match found: , \\\\match ID: 2260475748468505195, \\\\\\string id: adhdmatcher\n",
            "Match found: , \\\\match ID: 2260475748468505195, \\\\\\string id: adhdmatcher\n",
            "Match found: , \\\\match ID: 2260475748468505195, \\\\\\string id: adhdmatcher\n",
            "Match found: , \\\\match ID: 2260475748468505195, \\\\\\string id: adhdmatcher\n",
            "Match found: , \\\\match ID: 2260475748468505195, \\\\\\string id: adhdmatcher\n",
            "Match found: , \\\\match ID: 2260475748468505195, \\\\\\string id: adhdmatcher\n",
            "Match found: , \\\\match ID: 2260475748468505195, \\\\\\string id: adhdmatcher\n",
            "Match found: , \\\\match ID: 2260475748468505195, \\\\\\string id: adhdmatcher\n",
            "Match found: , \\\\match ID: 2260475748468505195, \\\\\\string id: adhdmatcher\n",
            "Match found: , \\\\match ID: 2260475748468505195, \\\\\\string id: adhdmatcher\n",
            "Match found: , \\\\match ID: 2260475748468505195, \\\\\\string id: adhdmatcher\n",
            "Match found: , \\\\match ID: 2260475748468505195, \\\\\\string id: adhdmatcher\n",
            "Match found: , \\\\match ID: 2260475748468505195, \\\\\\string id: adhdmatcher\n",
            "Match found: , \\\\match ID: 2260475748468505195, \\\\\\string id: adhdmatcher\n",
            "Match found: , \\\\match ID: 2260475748468505195, \\\\\\string id: adhdmatcher\n",
            "Match found: , \\\\match ID: 2260475748468505195, \\\\\\string id: adhdmatcher\n",
            "Match found: , \\\\match ID: 2260475748468505195, \\\\\\string id: adhdmatcher\n",
            "Match found: , \\\\match ID: 2260475748468505195, \\\\\\string id: adhdmatcher\n",
            "Match found: , \\\\match ID: 2260475748468505195, \\\\\\string id: adhdmatcher\n",
            "Match found: , \\\\match ID: 2260475748468505195, \\\\\\string id: adhdmatcher\n",
            "Match found: , \\\\match ID: 2260475748468505195, \\\\\\string id: adhdmatcher\n",
            "Match found: , \\\\match ID: 2260475748468505195, \\\\\\string id: adhdmatcher\n",
            "Match found: , \\\\match ID: 2260475748468505195, \\\\\\string id: adhdmatcher\n",
            "Match found: , \\\\match ID: 2260475748468505195, \\\\\\string id: adhdmatcher\n",
            "Match found: , \\\\match ID: 2260475748468505195, \\\\\\string id: adhdmatcher\n",
            "Match found: , \\\\match ID: 2260475748468505195, \\\\\\string id: adhdmatcher\n",
            "Match found: , \\\\match ID: 2260475748468505195, \\\\\\string id: adhdmatcher\n",
            "Match found: , \\\\match ID: 2260475748468505195, \\\\\\string id: adhdmatcher\n",
            "Match found: , \\\\match ID: 2260475748468505195, \\\\\\string id: adhdmatcher\n",
            "Match found: , \\\\match ID: 2260475748468505195, \\\\\\string id: adhdmatcher\n",
            "Match found: , \\\\match ID: 2260475748468505195, \\\\\\string id: adhdmatcher\n",
            "Match found: , \\\\match ID: 2260475748468505195, \\\\\\string id: adhdmatcher\n",
            "Match found: , \\\\match ID: 2260475748468505195, \\\\\\string id: adhdmatcher\n",
            "Match found: , \\\\match ID: 2260475748468505195, \\\\\\string id: adhdmatcher\n",
            "Match found: , \\\\match ID: 2260475748468505195, \\\\\\string id: adhdmatcher\n",
            "Match found: , \\\\match ID: 2260475748468505195, \\\\\\string id: adhdmatcher\n",
            "Match found: , \\\\match ID: 2260475748468505195, \\\\\\string id: adhdmatcher\n",
            "Match found: , \\\\match ID: 2260475748468505195, \\\\\\string id: adhdmatcher\n",
            "Match found: , \\\\match ID: 2260475748468505195, \\\\\\string id: adhdmatcher\n",
            "Match found: , \\\\match ID: 2260475748468505195, \\\\\\string id: adhdmatcher\n",
            "Match found: , \\\\match ID: 2260475748468505195, \\\\\\string id: adhdmatcher\n",
            "Match found: , \\\\match ID: 2260475748468505195, \\\\\\string id: adhdmatcher\n",
            "Match found: , \\\\match ID: 2260475748468505195, \\\\\\string id: adhdmatcher\n",
            "Match found: , \\\\match ID: 2260475748468505195, \\\\\\string id: adhdmatcher\n",
            "Match found: , \\\\match ID: 2260475748468505195, \\\\\\string id: adhdmatcher\n",
            "Match found: , \\\\match ID: 2260475748468505195, \\\\\\string id: adhdmatcher\n",
            "Match found: , \\\\match ID: 2260475748468505195, \\\\\\string id: adhdmatcher\n",
            "Match found: , \\\\match ID: 2260475748468505195, \\\\\\string id: adhdmatcher\n",
            "Match found: , \\\\match ID: 2260475748468505195, \\\\\\string id: adhdmatcher\n",
            "Match found: , \\\\match ID: 2260475748468505195, \\\\\\string id: adhdmatcher\n",
            "Match found: , \\\\match ID: 2260475748468505195, \\\\\\string id: adhdmatcher\n",
            "Match found: , \\\\match ID: 2260475748468505195, \\\\\\string id: adhdmatcher\n",
            "Match found: , \\\\match ID: 2260475748468505195, \\\\\\string id: adhdmatcher\n",
            "Match found: , \\\\match ID: 2260475748468505195, \\\\\\string id: adhdmatcher\n",
            "Match found: , \\\\match ID: 2260475748468505195, \\\\\\string id: adhdmatcher\n",
            "Match found: , \\\\match ID: 2260475748468505195, \\\\\\string id: adhdmatcher\n",
            "Match found: , \\\\match ID: 2260475748468505195, \\\\\\string id: adhdmatcher\n",
            "Match found: , \\\\match ID: 2260475748468505195, \\\\\\string id: adhdmatcher\n",
            "Match found: , \\\\match ID: 2260475748468505195, \\\\\\string id: adhdmatcher\n",
            "Match found: , \\\\match ID: 2260475748468505195, \\\\\\string id: adhdmatcher\n",
            "Match found: , \\\\match ID: 2260475748468505195, \\\\\\string id: adhdmatcher\n",
            "Match found: , \\\\match ID: 2260475748468505195, \\\\\\string id: adhdmatcher\n",
            "Match found: , \\\\match ID: 2260475748468505195, \\\\\\string id: adhdmatcher\n",
            "Match found: , \\\\match ID: 2260475748468505195, \\\\\\string id: adhdmatcher\n",
            "Match found: , \\\\match ID: 2260475748468505195, \\\\\\string id: adhdmatcher\n",
            "Match found: , \\\\match ID: 2260475748468505195, \\\\\\string id: adhdmatcher\n",
            "Match found: , \\\\match ID: 2260475748468505195, \\\\\\string id: adhdmatcher\n",
            "Match found: , \\\\match ID: 2260475748468505195, \\\\\\string id: adhdmatcher\n",
            "Match found: , \\\\match ID: 2260475748468505195, \\\\\\string id: adhdmatcher\n",
            "Match found: , \\\\match ID: 2260475748468505195, \\\\\\string id: adhdmatcher\n",
            "Match found: , \\\\match ID: 2260475748468505195, \\\\\\string id: adhdmatcher\n",
            "Match found: , \\\\match ID: 2260475748468505195, \\\\\\string id: adhdmatcher\n",
            "Match found: , \\\\match ID: 2260475748468505195, \\\\\\string id: adhdmatcher\n",
            "Match found: , \\\\match ID: 2260475748468505195, \\\\\\string id: adhdmatcher\n",
            "Match found: , \\\\match ID: 2260475748468505195, \\\\\\string id: adhdmatcher\n",
            "Match found: , \\\\match ID: 2260475748468505195, \\\\\\string id: adhdmatcher\n",
            "Match found: , \\\\match ID: 2260475748468505195, \\\\\\string id: adhdmatcher\n",
            "Match found: , \\\\match ID: 2260475748468505195, \\\\\\string id: adhdmatcher\n",
            "Match found: , \\\\match ID: 2260475748468505195, \\\\\\string id: adhdmatcher\n",
            "Match found: , \\\\match ID: 2260475748468505195, \\\\\\string id: adhdmatcher\n",
            "Match found: , \\\\match ID: 2260475748468505195, \\\\\\string id: adhdmatcher\n",
            "Match found: , \\\\match ID: 2260475748468505195, \\\\\\string id: adhdmatcher\n",
            "Match found: , \\\\match ID: 2260475748468505195, \\\\\\string id: adhdmatcher\n",
            "Match found: , \\\\match ID: 2260475748468505195, \\\\\\string id: adhdmatcher\n",
            "Match found: , \\\\match ID: 2260475748468505195, \\\\\\string id: adhdmatcher\n",
            "Match found: , \\\\match ID: 2260475748468505195, \\\\\\string id: adhdmatcher\n",
            "Match found: , \\\\match ID: 2260475748468505195, \\\\\\string id: adhdmatcher\n",
            "Match found: , \\\\match ID: 2260475748468505195, \\\\\\string id: adhdmatcher\n",
            "Match found: , \\\\match ID: 2260475748468505195, \\\\\\string id: adhdmatcher\n",
            "Match found: , \\\\match ID: 2260475748468505195, \\\\\\string id: adhdmatcher\n",
            "Match found: , \\\\match ID: 2260475748468505195, \\\\\\string id: adhdmatcher\n",
            "Match found: , \\\\match ID: 2260475748468505195, \\\\\\string id: adhdmatcher\n",
            "Match found: , \\\\match ID: 2260475748468505195, \\\\\\string id: adhdmatcher\n",
            "Match found: , \\\\match ID: 2260475748468505195, \\\\\\string id: adhdmatcher\n",
            "Match found: , \\\\match ID: 2260475748468505195, \\\\\\string id: adhdmatcher\n",
            "Match found: , \\\\match ID: 2260475748468505195, \\\\\\string id: adhdmatcher\n",
            "Match found: , \\\\match ID: 2260475748468505195, \\\\\\string id: adhdmatcher\n",
            "Match found: , \\\\match ID: 2260475748468505195, \\\\\\string id: adhdmatcher\n",
            "Match found: , \\\\match ID: 2260475748468505195, \\\\\\string id: adhdmatcher\n",
            "Match found: , \\\\match ID: 2260475748468505195, \\\\\\string id: adhdmatcher\n",
            "Match found: , \\\\match ID: 2260475748468505195, \\\\\\string id: adhdmatcher\n",
            "Match found: , \\\\match ID: 2260475748468505195, \\\\\\string id: adhdmatcher\n",
            "Match found: , \\\\match ID: 2260475748468505195, \\\\\\string id: adhdmatcher\n",
            "Match found: , \\\\match ID: 2260475748468505195, \\\\\\string id: adhdmatcher\n",
            "Match found: , \\\\match ID: 2260475748468505195, \\\\\\string id: adhdmatcher\n",
            "Match found: , \\\\match ID: 2260475748468505195, \\\\\\string id: adhdmatcher\n",
            "Match found: , \\\\match ID: 2260475748468505195, \\\\\\string id: adhdmatcher\n",
            "Match found: , \\\\match ID: 2260475748468505195, \\\\\\string id: adhdmatcher\n",
            "Match found: , \\\\match ID: 2260475748468505195, \\\\\\string id: adhdmatcher\n",
            "Match found: , \\\\match ID: 2260475748468505195, \\\\\\string id: adhdmatcher\n",
            "Match found: , \\\\match ID: 2260475748468505195, \\\\\\string id: adhdmatcher\n",
            "Match found: , \\\\match ID: 2260475748468505195, \\\\\\string id: adhdmatcher\n",
            "Match found: , \\\\match ID: 2260475748468505195, \\\\\\string id: adhdmatcher\n",
            "Match found: , \\\\match ID: 2260475748468505195, \\\\\\string id: adhdmatcher\n",
            "Match found: , \\\\match ID: 2260475748468505195, \\\\\\string id: adhdmatcher\n",
            "Match found: , \\\\match ID: 2260475748468505195, \\\\\\string id: adhdmatcher\n",
            "Match found: , \\\\match ID: 2260475748468505195, \\\\\\string id: adhdmatcher\n",
            "Match found: , \\\\match ID: 2260475748468505195, \\\\\\string id: adhdmatcher\n",
            "Match found: , \\\\match ID: 2260475748468505195, \\\\\\string id: adhdmatcher\n",
            "Match found: , \\\\match ID: 2260475748468505195, \\\\\\string id: adhdmatcher\n",
            "Match found: , \\\\match ID: 2260475748468505195, \\\\\\string id: adhdmatcher\n",
            "Match found: , \\\\match ID: 2260475748468505195, \\\\\\string id: adhdmatcher\n",
            "Match found: , \\\\match ID: 2260475748468505195, \\\\\\string id: adhdmatcher\n",
            "Match found: , \\\\match ID: 2260475748468505195, \\\\\\string id: adhdmatcher\n",
            "Match found: , \\\\match ID: 2260475748468505195, \\\\\\string id: adhdmatcher\n",
            "Match found: , \\\\match ID: 2260475748468505195, \\\\\\string id: adhdmatcher\n",
            "Match found: , \\\\match ID: 2260475748468505195, \\\\\\string id: adhdmatcher\n",
            "Match found: , \\\\match ID: 2260475748468505195, \\\\\\string id: adhdmatcher\n",
            "Match found: , \\\\match ID: 2260475748468505195, \\\\\\string id: adhdmatcher\n",
            "Match found: , \\\\match ID: 2260475748468505195, \\\\\\string id: adhdmatcher\n",
            "Match found: , \\\\match ID: 2260475748468505195, \\\\\\string id: adhdmatcher\n",
            "Match found: , \\\\match ID: 2260475748468505195, \\\\\\string id: adhdmatcher\n",
            "Match found: , \\\\match ID: 2260475748468505195, \\\\\\string id: adhdmatcher\n",
            "Match found: , \\\\match ID: 2260475748468505195, \\\\\\string id: adhdmatcher\n"
          ]
        }
      ]
    },
    {
      "cell_type": "code",
      "source": [],
      "metadata": {
        "id": "LxER6rvCfI5O"
      },
      "execution_count": null,
      "outputs": []
    }
  ]
}