{
  "nbformat": 4,
  "nbformat_minor": 0,
  "metadata": {
    "colab": {
      "provenance": [],
      "authorship_tag": "ABX9TyPh9VRyafXy0lOLoxPCn8wD",
      "include_colab_link": true
    },
    "kernelspec": {
      "name": "python3",
      "display_name": "Python 3"
    },
    "language_info": {
      "name": "python"
    }
  },
  "cells": [
    {
      "cell_type": "markdown",
      "metadata": {
        "id": "view-in-github",
        "colab_type": "text"
      },
      "source": [
        "<a href=\"https://colab.research.google.com/github/leynessa/ds_projects/blob/main/basic_Classifier_python_and_titanic.ipynb\" target=\"_parent\"><img src=\"https://colab.research.google.com/assets/colab-badge.svg\" alt=\"Open In Colab\"/></a>"
      ]
    },
    {
      "cell_type": "markdown",
      "source": [
        "#**Titanic Dataset**"
      ],
      "metadata": {
        "id": "KAJiPQgUVhXO"
      }
    },
    {
      "cell_type": "markdown",
      "source": [
        "Using the Most popular classifiers on the titanic dataset to predict Survival"
      ],
      "metadata": {
        "id": "BTQljFY2VXSX"
      }
    },
    {
      "cell_type": "markdown",
      "source": [
        "##**Preprocessing**"
      ],
      "metadata": {
        "id": "wPedylKlVoeY"
      }
    },
    {
      "cell_type": "markdown",
      "source": [
        "Preprocessing is typically done before splitting the data into training and test sets. The reason for this is to avoid data leakage, which occurs when information from the test set inadvertently influences the preprocessing steps applied to the training set.<br>\n",
        "\n",
        "The correct order of steps is as follows:<br>\n",
        "\n",
        "**Preprocessing**: Clean, transform, and preprocess the entire dataset (features and target variable) as needed. This may include handling missing values, scaling/normalizing features, encoding categorical variables, and dealing with outliers.<br>\n",
        "\n",
        "**Splitting**: After preprocessing, the dataset is divided into two parts: the training set and the test set. The training set is used to train the machine learning model, and the test set is used to evaluate its performance.<br>\n",
        "\n",
        "**Model Training and Evaluation**: The model is trained on the training set, and its performance is evaluated using the test set. This gives an estimate of how well the model will generalize to unseen data.<br>\n",
        "\n",
        "Here, the train_test_split function will randomly split the preprocessed data into training and test sets, where 70% of the data will be used for training (X_train and y_train) and 30% for testing (X_test and y_test). The random_state parameter ensures reproducibility of the split. <br>\n",
        "\n",
        "\n",
        "\n",
        "\n",
        "///from sklearn.model_selection import train_test_split<br>\n",
        "X_train, X_test, y_train, y_test = train_test_split(X, y, test_size=0.3, random_state=42)////"
      ],
      "metadata": {
        "id": "9DngmCqMVvA8"
      }
    },
    {
      "cell_type": "code",
      "execution_count": 3,
      "metadata": {
        "colab": {
          "base_uri": "https://localhost:8080/",
          "height": 250
        },
        "id": "bH-amMsu5G5D",
        "outputId": "741c4469-c560-423f-998b-410fbb209c86"
      },
      "outputs": [
        {
          "output_type": "execute_result",
          "data": {
            "text/plain": [
              "   PassengerId  Survived  Pclass  \\\n",
              "0            1         0       3   \n",
              "1            2         1       1   \n",
              "2            3         1       3   \n",
              "3            4         1       1   \n",
              "4            5         0       3   \n",
              "\n",
              "                                                Name     Sex   Age  SibSp  \\\n",
              "0                            Braund, Mr. Owen Harris    male  22.0      1   \n",
              "1  Cumings, Mrs. John Bradley (Florence Briggs Th...  female  38.0      1   \n",
              "2                             Heikkinen, Miss. Laina  female  26.0      0   \n",
              "3       Futrelle, Mrs. Jacques Heath (Lily May Peel)  female  35.0      1   \n",
              "4                           Allen, Mr. William Henry    male  35.0      0   \n",
              "\n",
              "   Parch            Ticket     Fare Cabin Embarked  \n",
              "0      0         A/5 21171   7.2500   NaN        S  \n",
              "1      0          PC 17599  71.2833   C85        C  \n",
              "2      0  STON/O2. 3101282   7.9250   NaN        S  \n",
              "3      0            113803  53.1000  C123        S  \n",
              "4      0            373450   8.0500   NaN        S  "
            ],
            "text/html": [
              "\n",
              "\n",
              "  <div id=\"df-d4981db2-fb84-4c52-9dbe-fddea2063cd0\">\n",
              "    <div class=\"colab-df-container\">\n",
              "      <div>\n",
              "<style scoped>\n",
              "    .dataframe tbody tr th:only-of-type {\n",
              "        vertical-align: middle;\n",
              "    }\n",
              "\n",
              "    .dataframe tbody tr th {\n",
              "        vertical-align: top;\n",
              "    }\n",
              "\n",
              "    .dataframe thead th {\n",
              "        text-align: right;\n",
              "    }\n",
              "</style>\n",
              "<table border=\"1\" class=\"dataframe\">\n",
              "  <thead>\n",
              "    <tr style=\"text-align: right;\">\n",
              "      <th></th>\n",
              "      <th>PassengerId</th>\n",
              "      <th>Survived</th>\n",
              "      <th>Pclass</th>\n",
              "      <th>Name</th>\n",
              "      <th>Sex</th>\n",
              "      <th>Age</th>\n",
              "      <th>SibSp</th>\n",
              "      <th>Parch</th>\n",
              "      <th>Ticket</th>\n",
              "      <th>Fare</th>\n",
              "      <th>Cabin</th>\n",
              "      <th>Embarked</th>\n",
              "    </tr>\n",
              "  </thead>\n",
              "  <tbody>\n",
              "    <tr>\n",
              "      <th>0</th>\n",
              "      <td>1</td>\n",
              "      <td>0</td>\n",
              "      <td>3</td>\n",
              "      <td>Braund, Mr. Owen Harris</td>\n",
              "      <td>male</td>\n",
              "      <td>22.0</td>\n",
              "      <td>1</td>\n",
              "      <td>0</td>\n",
              "      <td>A/5 21171</td>\n",
              "      <td>7.2500</td>\n",
              "      <td>NaN</td>\n",
              "      <td>S</td>\n",
              "    </tr>\n",
              "    <tr>\n",
              "      <th>1</th>\n",
              "      <td>2</td>\n",
              "      <td>1</td>\n",
              "      <td>1</td>\n",
              "      <td>Cumings, Mrs. John Bradley (Florence Briggs Th...</td>\n",
              "      <td>female</td>\n",
              "      <td>38.0</td>\n",
              "      <td>1</td>\n",
              "      <td>0</td>\n",
              "      <td>PC 17599</td>\n",
              "      <td>71.2833</td>\n",
              "      <td>C85</td>\n",
              "      <td>C</td>\n",
              "    </tr>\n",
              "    <tr>\n",
              "      <th>2</th>\n",
              "      <td>3</td>\n",
              "      <td>1</td>\n",
              "      <td>3</td>\n",
              "      <td>Heikkinen, Miss. Laina</td>\n",
              "      <td>female</td>\n",
              "      <td>26.0</td>\n",
              "      <td>0</td>\n",
              "      <td>0</td>\n",
              "      <td>STON/O2. 3101282</td>\n",
              "      <td>7.9250</td>\n",
              "      <td>NaN</td>\n",
              "      <td>S</td>\n",
              "    </tr>\n",
              "    <tr>\n",
              "      <th>3</th>\n",
              "      <td>4</td>\n",
              "      <td>1</td>\n",
              "      <td>1</td>\n",
              "      <td>Futrelle, Mrs. Jacques Heath (Lily May Peel)</td>\n",
              "      <td>female</td>\n",
              "      <td>35.0</td>\n",
              "      <td>1</td>\n",
              "      <td>0</td>\n",
              "      <td>113803</td>\n",
              "      <td>53.1000</td>\n",
              "      <td>C123</td>\n",
              "      <td>S</td>\n",
              "    </tr>\n",
              "    <tr>\n",
              "      <th>4</th>\n",
              "      <td>5</td>\n",
              "      <td>0</td>\n",
              "      <td>3</td>\n",
              "      <td>Allen, Mr. William Henry</td>\n",
              "      <td>male</td>\n",
              "      <td>35.0</td>\n",
              "      <td>0</td>\n",
              "      <td>0</td>\n",
              "      <td>373450</td>\n",
              "      <td>8.0500</td>\n",
              "      <td>NaN</td>\n",
              "      <td>S</td>\n",
              "    </tr>\n",
              "  </tbody>\n",
              "</table>\n",
              "</div>\n",
              "      <button class=\"colab-df-convert\" onclick=\"convertToInteractive('df-d4981db2-fb84-4c52-9dbe-fddea2063cd0')\"\n",
              "              title=\"Convert this dataframe to an interactive table.\"\n",
              "              style=\"display:none;\">\n",
              "\n",
              "  <svg xmlns=\"http://www.w3.org/2000/svg\" height=\"24px\"viewBox=\"0 0 24 24\"\n",
              "       width=\"24px\">\n",
              "    <path d=\"M0 0h24v24H0V0z\" fill=\"none\"/>\n",
              "    <path d=\"M18.56 5.44l.94 2.06.94-2.06 2.06-.94-2.06-.94-.94-2.06-.94 2.06-2.06.94zm-11 1L8.5 8.5l.94-2.06 2.06-.94-2.06-.94L8.5 2.5l-.94 2.06-2.06.94zm10 10l.94 2.06.94-2.06 2.06-.94-2.06-.94-.94-2.06-.94 2.06-2.06.94z\"/><path d=\"M17.41 7.96l-1.37-1.37c-.4-.4-.92-.59-1.43-.59-.52 0-1.04.2-1.43.59L10.3 9.45l-7.72 7.72c-.78.78-.78 2.05 0 2.83L4 21.41c.39.39.9.59 1.41.59.51 0 1.02-.2 1.41-.59l7.78-7.78 2.81-2.81c.8-.78.8-2.07 0-2.86zM5.41 20L4 18.59l7.72-7.72 1.47 1.35L5.41 20z\"/>\n",
              "  </svg>\n",
              "      </button>\n",
              "\n",
              "\n",
              "\n",
              "    <div id=\"df-b7c53c69-3b2e-4a21-a9df-e5c9a873a890\">\n",
              "      <button class=\"colab-df-quickchart\" onclick=\"quickchart('df-b7c53c69-3b2e-4a21-a9df-e5c9a873a890')\"\n",
              "              title=\"Suggest charts.\"\n",
              "              style=\"display:none;\">\n",
              "\n",
              "<svg xmlns=\"http://www.w3.org/2000/svg\" height=\"24px\"viewBox=\"0 0 24 24\"\n",
              "     width=\"24px\">\n",
              "    <g>\n",
              "        <path d=\"M19 3H5c-1.1 0-2 .9-2 2v14c0 1.1.9 2 2 2h14c1.1 0 2-.9 2-2V5c0-1.1-.9-2-2-2zM9 17H7v-7h2v7zm4 0h-2V7h2v10zm4 0h-2v-4h2v4z\"/>\n",
              "    </g>\n",
              "</svg>\n",
              "      </button>\n",
              "    </div>\n",
              "\n",
              "<style>\n",
              "  .colab-df-quickchart {\n",
              "    background-color: #E8F0FE;\n",
              "    border: none;\n",
              "    border-radius: 50%;\n",
              "    cursor: pointer;\n",
              "    display: none;\n",
              "    fill: #1967D2;\n",
              "    height: 32px;\n",
              "    padding: 0 0 0 0;\n",
              "    width: 32px;\n",
              "  }\n",
              "\n",
              "  .colab-df-quickchart:hover {\n",
              "    background-color: #E2EBFA;\n",
              "    box-shadow: 0px 1px 2px rgba(60, 64, 67, 0.3), 0px 1px 3px 1px rgba(60, 64, 67, 0.15);\n",
              "    fill: #174EA6;\n",
              "  }\n",
              "\n",
              "  [theme=dark] .colab-df-quickchart {\n",
              "    background-color: #3B4455;\n",
              "    fill: #D2E3FC;\n",
              "  }\n",
              "\n",
              "  [theme=dark] .colab-df-quickchart:hover {\n",
              "    background-color: #434B5C;\n",
              "    box-shadow: 0px 1px 3px 1px rgba(0, 0, 0, 0.15);\n",
              "    filter: drop-shadow(0px 1px 2px rgba(0, 0, 0, 0.3));\n",
              "    fill: #FFFFFF;\n",
              "  }\n",
              "</style>\n",
              "\n",
              "    <script>\n",
              "      async function quickchart(key) {\n",
              "        const containerElement = document.querySelector('#' + key);\n",
              "        const charts = await google.colab.kernel.invokeFunction(\n",
              "            'suggestCharts', [key], {});\n",
              "      }\n",
              "    </script>\n",
              "\n",
              "      <script>\n",
              "\n",
              "function displayQuickchartButton(domScope) {\n",
              "  let quickchartButtonEl =\n",
              "    domScope.querySelector('#df-b7c53c69-3b2e-4a21-a9df-e5c9a873a890 button.colab-df-quickchart');\n",
              "  quickchartButtonEl.style.display =\n",
              "    google.colab.kernel.accessAllowed ? 'block' : 'none';\n",
              "}\n",
              "\n",
              "        displayQuickchartButton(document);\n",
              "      </script>\n",
              "      <style>\n",
              "    .colab-df-container {\n",
              "      display:flex;\n",
              "      flex-wrap:wrap;\n",
              "      gap: 12px;\n",
              "    }\n",
              "\n",
              "    .colab-df-convert {\n",
              "      background-color: #E8F0FE;\n",
              "      border: none;\n",
              "      border-radius: 50%;\n",
              "      cursor: pointer;\n",
              "      display: none;\n",
              "      fill: #1967D2;\n",
              "      height: 32px;\n",
              "      padding: 0 0 0 0;\n",
              "      width: 32px;\n",
              "    }\n",
              "\n",
              "    .colab-df-convert:hover {\n",
              "      background-color: #E2EBFA;\n",
              "      box-shadow: 0px 1px 2px rgba(60, 64, 67, 0.3), 0px 1px 3px 1px rgba(60, 64, 67, 0.15);\n",
              "      fill: #174EA6;\n",
              "    }\n",
              "\n",
              "    [theme=dark] .colab-df-convert {\n",
              "      background-color: #3B4455;\n",
              "      fill: #D2E3FC;\n",
              "    }\n",
              "\n",
              "    [theme=dark] .colab-df-convert:hover {\n",
              "      background-color: #434B5C;\n",
              "      box-shadow: 0px 1px 3px 1px rgba(0, 0, 0, 0.15);\n",
              "      filter: drop-shadow(0px 1px 2px rgba(0, 0, 0, 0.3));\n",
              "      fill: #FFFFFF;\n",
              "    }\n",
              "  </style>\n",
              "\n",
              "      <script>\n",
              "        const buttonEl =\n",
              "          document.querySelector('#df-d4981db2-fb84-4c52-9dbe-fddea2063cd0 button.colab-df-convert');\n",
              "        buttonEl.style.display =\n",
              "          google.colab.kernel.accessAllowed ? 'block' : 'none';\n",
              "\n",
              "        async function convertToInteractive(key) {\n",
              "          const element = document.querySelector('#df-d4981db2-fb84-4c52-9dbe-fddea2063cd0');\n",
              "          const dataTable =\n",
              "            await google.colab.kernel.invokeFunction('convertToInteractive',\n",
              "                                                     [key], {});\n",
              "          if (!dataTable) return;\n",
              "\n",
              "          const docLinkHtml = 'Like what you see? Visit the ' +\n",
              "            '<a target=\"_blank\" href=https://colab.research.google.com/notebooks/data_table.ipynb>data table notebook</a>'\n",
              "            + ' to learn more about interactive tables.';\n",
              "          element.innerHTML = '';\n",
              "          dataTable['output_type'] = 'display_data';\n",
              "          await google.colab.output.renderOutput(dataTable, element);\n",
              "          const docLink = document.createElement('div');\n",
              "          docLink.innerHTML = docLinkHtml;\n",
              "          element.appendChild(docLink);\n",
              "        }\n",
              "      </script>\n",
              "    </div>\n",
              "  </div>\n"
            ]
          },
          "metadata": {},
          "execution_count": 3
        }
      ],
      "source": [
        "import numpy as np\n",
        "import pandas as pd\n",
        "import matplotlib.pyplot as plt\n",
        "import seaborn as sns\n",
        "\n",
        "dataset = pd.read_csv(\"Titanic-Dataset.csv\")\n",
        "dataset.head()"
      ]
    },
    {
      "cell_type": "markdown",
      "source": [
        "the classification that will be used :\n",
        "decision tree\n",
        "\n",
        "  1.randon forest\n",
        "  2.naive bayes\n",
        "  3.knn\n",
        "  4.logistic regression\n",
        "  5.gradient boosting\n",
        "  6.svm\n",
        "\n"
      ],
      "metadata": {
        "id": "9Ow2VURY6l8N"
      }
    },
    {
      "cell_type": "code",
      "source": [
        "dataset.columns\n"
      ],
      "metadata": {
        "colab": {
          "base_uri": "https://localhost:8080/"
        },
        "id": "tNlL34UN6eNB",
        "outputId": "2c25df23-936d-4323-97d3-aa7ddadb82d1"
      },
      "execution_count": 4,
      "outputs": [
        {
          "output_type": "execute_result",
          "data": {
            "text/plain": [
              "Index(['PassengerId', 'Survived', 'Pclass', 'Name', 'Sex', 'Age', 'SibSp',\n",
              "       'Parch', 'Ticket', 'Fare', 'Cabin', 'Embarked'],\n",
              "      dtype='object')"
            ]
          },
          "metadata": {},
          "execution_count": 4
        }
      ]
    },
    {
      "cell_type": "markdown",
      "source": [
        "Preprocessing:\n",
        "remove unwanted columns, treat missing values"
      ],
      "metadata": {
        "id": "OWbTR_Om_m3D"
      }
    },
    {
      "cell_type": "code",
      "source": [
        "dataset.info()"
      ],
      "metadata": {
        "colab": {
          "base_uri": "https://localhost:8080/"
        },
        "id": "W-JVWvjj-FME",
        "outputId": "a11c7873-871f-4e87-e037-4fd80e6f23b4"
      },
      "execution_count": 5,
      "outputs": [
        {
          "output_type": "stream",
          "name": "stdout",
          "text": [
            "<class 'pandas.core.frame.DataFrame'>\n",
            "RangeIndex: 891 entries, 0 to 890\n",
            "Data columns (total 12 columns):\n",
            " #   Column       Non-Null Count  Dtype  \n",
            "---  ------       --------------  -----  \n",
            " 0   PassengerId  891 non-null    int64  \n",
            " 1   Survived     891 non-null    int64  \n",
            " 2   Pclass       891 non-null    int64  \n",
            " 3   Name         891 non-null    object \n",
            " 4   Sex          891 non-null    object \n",
            " 5   Age          714 non-null    float64\n",
            " 6   SibSp        891 non-null    int64  \n",
            " 7   Parch        891 non-null    int64  \n",
            " 8   Ticket       891 non-null    object \n",
            " 9   Fare         891 non-null    float64\n",
            " 10  Cabin        204 non-null    object \n",
            " 11  Embarked     889 non-null    object \n",
            "dtypes: float64(2), int64(5), object(5)\n",
            "memory usage: 83.7+ KB\n"
          ]
        }
      ]
    },
    {
      "cell_type": "code",
      "source": [
        "dataset.isna().sum()"
      ],
      "metadata": {
        "colab": {
          "base_uri": "https://localhost:8080/"
        },
        "id": "Jrg0I6Qd8Ne9",
        "outputId": "f0b84583-0f34-4723-dc3d-6f35ca5b5ae2"
      },
      "execution_count": 6,
      "outputs": [
        {
          "output_type": "execute_result",
          "data": {
            "text/plain": [
              "PassengerId      0\n",
              "Survived         0\n",
              "Pclass           0\n",
              "Name             0\n",
              "Sex              0\n",
              "Age            177\n",
              "SibSp            0\n",
              "Parch            0\n",
              "Ticket           0\n",
              "Fare             0\n",
              "Cabin          687\n",
              "Embarked         2\n",
              "dtype: int64"
            ]
          },
          "metadata": {},
          "execution_count": 6
        }
      ]
    },
    {
      "cell_type": "code",
      "source": [
        "dataset['Ticket']. nunique()"
      ],
      "metadata": {
        "colab": {
          "base_uri": "https://localhost:8080/"
        },
        "id": "OMAjpMhK97QK",
        "outputId": "484e6dc8-55e5-4135-aaf2-db4f097a54fa"
      },
      "execution_count": 7,
      "outputs": [
        {
          "output_type": "execute_result",
          "data": {
            "text/plain": [
              "681"
            ]
          },
          "metadata": {},
          "execution_count": 7
        }
      ]
    },
    {
      "cell_type": "code",
      "source": [
        "cols_drop = [ 'Name','Cabin','Ticket' ]\n",
        "df= dataset.drop(cols_drop, axis=1)"
      ],
      "metadata": {
        "id": "oSF8R-xG7bTD"
      },
      "execution_count": 8,
      "outputs": []
    },
    {
      "cell_type": "markdown",
      "source": [
        "name does help to determine if survive; cabin has missing values"
      ],
      "metadata": {
        "id": "fpdphMru86LZ"
      }
    },
    {
      "cell_type": "code",
      "source": [
        "df.head()"
      ],
      "metadata": {
        "colab": {
          "base_uri": "https://localhost:8080/",
          "height": 206
        },
        "id": "Sc5IQQcn79ZS",
        "outputId": "60035de2-7c30-43cb-9c38-4954053556af"
      },
      "execution_count": 9,
      "outputs": [
        {
          "output_type": "execute_result",
          "data": {
            "text/plain": [
              "   PassengerId  Survived  Pclass     Sex   Age  SibSp  Parch     Fare Embarked\n",
              "0            1         0       3    male  22.0      1      0   7.2500        S\n",
              "1            2         1       1  female  38.0      1      0  71.2833        C\n",
              "2            3         1       3  female  26.0      0      0   7.9250        S\n",
              "3            4         1       1  female  35.0      1      0  53.1000        S\n",
              "4            5         0       3    male  35.0      0      0   8.0500        S"
            ],
            "text/html": [
              "\n",
              "\n",
              "  <div id=\"df-cc9a4778-8600-4f2e-a287-b8d6014dc5ce\">\n",
              "    <div class=\"colab-df-container\">\n",
              "      <div>\n",
              "<style scoped>\n",
              "    .dataframe tbody tr th:only-of-type {\n",
              "        vertical-align: middle;\n",
              "    }\n",
              "\n",
              "    .dataframe tbody tr th {\n",
              "        vertical-align: top;\n",
              "    }\n",
              "\n",
              "    .dataframe thead th {\n",
              "        text-align: right;\n",
              "    }\n",
              "</style>\n",
              "<table border=\"1\" class=\"dataframe\">\n",
              "  <thead>\n",
              "    <tr style=\"text-align: right;\">\n",
              "      <th></th>\n",
              "      <th>PassengerId</th>\n",
              "      <th>Survived</th>\n",
              "      <th>Pclass</th>\n",
              "      <th>Sex</th>\n",
              "      <th>Age</th>\n",
              "      <th>SibSp</th>\n",
              "      <th>Parch</th>\n",
              "      <th>Fare</th>\n",
              "      <th>Embarked</th>\n",
              "    </tr>\n",
              "  </thead>\n",
              "  <tbody>\n",
              "    <tr>\n",
              "      <th>0</th>\n",
              "      <td>1</td>\n",
              "      <td>0</td>\n",
              "      <td>3</td>\n",
              "      <td>male</td>\n",
              "      <td>22.0</td>\n",
              "      <td>1</td>\n",
              "      <td>0</td>\n",
              "      <td>7.2500</td>\n",
              "      <td>S</td>\n",
              "    </tr>\n",
              "    <tr>\n",
              "      <th>1</th>\n",
              "      <td>2</td>\n",
              "      <td>1</td>\n",
              "      <td>1</td>\n",
              "      <td>female</td>\n",
              "      <td>38.0</td>\n",
              "      <td>1</td>\n",
              "      <td>0</td>\n",
              "      <td>71.2833</td>\n",
              "      <td>C</td>\n",
              "    </tr>\n",
              "    <tr>\n",
              "      <th>2</th>\n",
              "      <td>3</td>\n",
              "      <td>1</td>\n",
              "      <td>3</td>\n",
              "      <td>female</td>\n",
              "      <td>26.0</td>\n",
              "      <td>0</td>\n",
              "      <td>0</td>\n",
              "      <td>7.9250</td>\n",
              "      <td>S</td>\n",
              "    </tr>\n",
              "    <tr>\n",
              "      <th>3</th>\n",
              "      <td>4</td>\n",
              "      <td>1</td>\n",
              "      <td>1</td>\n",
              "      <td>female</td>\n",
              "      <td>35.0</td>\n",
              "      <td>1</td>\n",
              "      <td>0</td>\n",
              "      <td>53.1000</td>\n",
              "      <td>S</td>\n",
              "    </tr>\n",
              "    <tr>\n",
              "      <th>4</th>\n",
              "      <td>5</td>\n",
              "      <td>0</td>\n",
              "      <td>3</td>\n",
              "      <td>male</td>\n",
              "      <td>35.0</td>\n",
              "      <td>0</td>\n",
              "      <td>0</td>\n",
              "      <td>8.0500</td>\n",
              "      <td>S</td>\n",
              "    </tr>\n",
              "  </tbody>\n",
              "</table>\n",
              "</div>\n",
              "      <button class=\"colab-df-convert\" onclick=\"convertToInteractive('df-cc9a4778-8600-4f2e-a287-b8d6014dc5ce')\"\n",
              "              title=\"Convert this dataframe to an interactive table.\"\n",
              "              style=\"display:none;\">\n",
              "\n",
              "  <svg xmlns=\"http://www.w3.org/2000/svg\" height=\"24px\"viewBox=\"0 0 24 24\"\n",
              "       width=\"24px\">\n",
              "    <path d=\"M0 0h24v24H0V0z\" fill=\"none\"/>\n",
              "    <path d=\"M18.56 5.44l.94 2.06.94-2.06 2.06-.94-2.06-.94-.94-2.06-.94 2.06-2.06.94zm-11 1L8.5 8.5l.94-2.06 2.06-.94-2.06-.94L8.5 2.5l-.94 2.06-2.06.94zm10 10l.94 2.06.94-2.06 2.06-.94-2.06-.94-.94-2.06-.94 2.06-2.06.94z\"/><path d=\"M17.41 7.96l-1.37-1.37c-.4-.4-.92-.59-1.43-.59-.52 0-1.04.2-1.43.59L10.3 9.45l-7.72 7.72c-.78.78-.78 2.05 0 2.83L4 21.41c.39.39.9.59 1.41.59.51 0 1.02-.2 1.41-.59l7.78-7.78 2.81-2.81c.8-.78.8-2.07 0-2.86zM5.41 20L4 18.59l7.72-7.72 1.47 1.35L5.41 20z\"/>\n",
              "  </svg>\n",
              "      </button>\n",
              "\n",
              "\n",
              "\n",
              "    <div id=\"df-11afcbb1-3006-468e-a457-b64b84844a22\">\n",
              "      <button class=\"colab-df-quickchart\" onclick=\"quickchart('df-11afcbb1-3006-468e-a457-b64b84844a22')\"\n",
              "              title=\"Suggest charts.\"\n",
              "              style=\"display:none;\">\n",
              "\n",
              "<svg xmlns=\"http://www.w3.org/2000/svg\" height=\"24px\"viewBox=\"0 0 24 24\"\n",
              "     width=\"24px\">\n",
              "    <g>\n",
              "        <path d=\"M19 3H5c-1.1 0-2 .9-2 2v14c0 1.1.9 2 2 2h14c1.1 0 2-.9 2-2V5c0-1.1-.9-2-2-2zM9 17H7v-7h2v7zm4 0h-2V7h2v10zm4 0h-2v-4h2v4z\"/>\n",
              "    </g>\n",
              "</svg>\n",
              "      </button>\n",
              "    </div>\n",
              "\n",
              "<style>\n",
              "  .colab-df-quickchart {\n",
              "    background-color: #E8F0FE;\n",
              "    border: none;\n",
              "    border-radius: 50%;\n",
              "    cursor: pointer;\n",
              "    display: none;\n",
              "    fill: #1967D2;\n",
              "    height: 32px;\n",
              "    padding: 0 0 0 0;\n",
              "    width: 32px;\n",
              "  }\n",
              "\n",
              "  .colab-df-quickchart:hover {\n",
              "    background-color: #E2EBFA;\n",
              "    box-shadow: 0px 1px 2px rgba(60, 64, 67, 0.3), 0px 1px 3px 1px rgba(60, 64, 67, 0.15);\n",
              "    fill: #174EA6;\n",
              "  }\n",
              "\n",
              "  [theme=dark] .colab-df-quickchart {\n",
              "    background-color: #3B4455;\n",
              "    fill: #D2E3FC;\n",
              "  }\n",
              "\n",
              "  [theme=dark] .colab-df-quickchart:hover {\n",
              "    background-color: #434B5C;\n",
              "    box-shadow: 0px 1px 3px 1px rgba(0, 0, 0, 0.15);\n",
              "    filter: drop-shadow(0px 1px 2px rgba(0, 0, 0, 0.3));\n",
              "    fill: #FFFFFF;\n",
              "  }\n",
              "</style>\n",
              "\n",
              "    <script>\n",
              "      async function quickchart(key) {\n",
              "        const containerElement = document.querySelector('#' + key);\n",
              "        const charts = await google.colab.kernel.invokeFunction(\n",
              "            'suggestCharts', [key], {});\n",
              "      }\n",
              "    </script>\n",
              "\n",
              "      <script>\n",
              "\n",
              "function displayQuickchartButton(domScope) {\n",
              "  let quickchartButtonEl =\n",
              "    domScope.querySelector('#df-11afcbb1-3006-468e-a457-b64b84844a22 button.colab-df-quickchart');\n",
              "  quickchartButtonEl.style.display =\n",
              "    google.colab.kernel.accessAllowed ? 'block' : 'none';\n",
              "}\n",
              "\n",
              "        displayQuickchartButton(document);\n",
              "      </script>\n",
              "      <style>\n",
              "    .colab-df-container {\n",
              "      display:flex;\n",
              "      flex-wrap:wrap;\n",
              "      gap: 12px;\n",
              "    }\n",
              "\n",
              "    .colab-df-convert {\n",
              "      background-color: #E8F0FE;\n",
              "      border: none;\n",
              "      border-radius: 50%;\n",
              "      cursor: pointer;\n",
              "      display: none;\n",
              "      fill: #1967D2;\n",
              "      height: 32px;\n",
              "      padding: 0 0 0 0;\n",
              "      width: 32px;\n",
              "    }\n",
              "\n",
              "    .colab-df-convert:hover {\n",
              "      background-color: #E2EBFA;\n",
              "      box-shadow: 0px 1px 2px rgba(60, 64, 67, 0.3), 0px 1px 3px 1px rgba(60, 64, 67, 0.15);\n",
              "      fill: #174EA6;\n",
              "    }\n",
              "\n",
              "    [theme=dark] .colab-df-convert {\n",
              "      background-color: #3B4455;\n",
              "      fill: #D2E3FC;\n",
              "    }\n",
              "\n",
              "    [theme=dark] .colab-df-convert:hover {\n",
              "      background-color: #434B5C;\n",
              "      box-shadow: 0px 1px 3px 1px rgba(0, 0, 0, 0.15);\n",
              "      filter: drop-shadow(0px 1px 2px rgba(0, 0, 0, 0.3));\n",
              "      fill: #FFFFFF;\n",
              "    }\n",
              "  </style>\n",
              "\n",
              "      <script>\n",
              "        const buttonEl =\n",
              "          document.querySelector('#df-cc9a4778-8600-4f2e-a287-b8d6014dc5ce button.colab-df-convert');\n",
              "        buttonEl.style.display =\n",
              "          google.colab.kernel.accessAllowed ? 'block' : 'none';\n",
              "\n",
              "        async function convertToInteractive(key) {\n",
              "          const element = document.querySelector('#df-cc9a4778-8600-4f2e-a287-b8d6014dc5ce');\n",
              "          const dataTable =\n",
              "            await google.colab.kernel.invokeFunction('convertToInteractive',\n",
              "                                                     [key], {});\n",
              "          if (!dataTable) return;\n",
              "\n",
              "          const docLinkHtml = 'Like what you see? Visit the ' +\n",
              "            '<a target=\"_blank\" href=https://colab.research.google.com/notebooks/data_table.ipynb>data table notebook</a>'\n",
              "            + ' to learn more about interactive tables.';\n",
              "          element.innerHTML = '';\n",
              "          dataTable['output_type'] = 'display_data';\n",
              "          await google.colab.output.renderOutput(dataTable, element);\n",
              "          const docLink = document.createElement('div');\n",
              "          docLink.innerHTML = docLinkHtml;\n",
              "          element.appendChild(docLink);\n",
              "        }\n",
              "      </script>\n",
              "    </div>\n",
              "  </div>\n"
            ]
          },
          "metadata": {},
          "execution_count": 9
        }
      ]
    },
    {
      "cell_type": "code",
      "source": [
        "sns.heatmap(df.isnull()) #show where ther are missing values"
      ],
      "metadata": {
        "colab": {
          "base_uri": "https://localhost:8080/",
          "height": 523
        },
        "id": "L0Ie-p7v8Gv5",
        "outputId": "af9b5014-9ee3-48ad-e54f-acc95fd344eb"
      },
      "execution_count": 10,
      "outputs": [
        {
          "output_type": "execute_result",
          "data": {
            "text/plain": [
              "<Axes: >"
            ]
          },
          "metadata": {},
          "execution_count": 10
        },
        {
          "output_type": "display_data",
          "data": {
            "text/plain": [
              "<Figure size 640x480 with 2 Axes>"
            ],
            "image/png": "[encoded data removed]"
          },
          "metadata": {}
        }
      ]
    },
    {
      "cell_type": "markdown",
      "source": [
        "Treat the missing values"
      ],
      "metadata": {
        "id": "IlyfZuz-_zMP"
      }
    },
    {
      "cell_type": "code",
      "source": [
        "df['Age'] = df['Age'].interpolate()\n",
        "sns.heatmap(df.isnull())"
      ],
      "metadata": {
        "colab": {
          "base_uri": "https://localhost:8080/",
          "height": 523
        },
        "id": "kQS59brQ_ZZJ",
        "outputId": "74986428-cff2-4859-f5e1-eedaf11655df"
      },
      "execution_count": 11,
      "outputs": [
        {
          "output_type": "execute_result",
          "data": {
            "text/plain": [
              "<Axes: >"
            ]
          },
          "metadata": {},
          "execution_count": 11
        },
        {
          "output_type": "display_data",
          "data": {
            "text/plain": [
              "<Figure size 640x480 with 2 Axes>"
            ],
            "image/png": "[encoded data removed]"
          },
          "metadata": {}
        }
      ]
    },
    {
      "cell_type": "code",
      "source": [
        "df =df.dropna()"
      ],
      "metadata": {
        "id": "7qzbX7tuAiOk"
      },
      "execution_count": 12,
      "outputs": []
    },
    {
      "cell_type": "code",
      "source": [
        "sns.heatmap(df.isnull())"
      ],
      "metadata": {
        "colab": {
          "base_uri": "https://localhost:8080/",
          "height": 523
        },
        "id": "p9lJlj5CAx2E",
        "outputId": "d2c9c83e-914e-42f0-b386-4d3ba2bb6d25"
      },
      "execution_count": 13,
      "outputs": [
        {
          "output_type": "execute_result",
          "data": {
            "text/plain": [
              "<Axes: >"
            ]
          },
          "metadata": {},
          "execution_count": 13
        },
        {
          "output_type": "display_data",
          "data": {
            "text/plain": [
              "<Figure size 640x480 with 2 Axes>"
            ],
            "image/png": "[encoded data removed]"
          },
          "metadata": {}
        }
      ]
    },
    {
      "cell_type": "code",
      "source": [
        "df.head()"
      ],
      "metadata": {
        "colab": {
          "base_uri": "https://localhost:8080/",
          "height": 206
        },
        "id": "QIkr4FdOAz3m",
        "outputId": "27e22a41-cfd9-48bc-842f-349d068980db"
      },
      "execution_count": 14,
      "outputs": [
        {
          "output_type": "execute_result",
          "data": {
            "text/plain": [
              "   PassengerId  Survived  Pclass     Sex   Age  SibSp  Parch     Fare Embarked\n",
              "0            1         0       3    male  22.0      1      0   7.2500        S\n",
              "1            2         1       1  female  38.0      1      0  71.2833        C\n",
              "2            3         1       3  female  26.0      0      0   7.9250        S\n",
              "3            4         1       1  female  35.0      1      0  53.1000        S\n",
              "4            5         0       3    male  35.0      0      0   8.0500        S"
            ],
            "text/html": [
              "\n",
              "\n",
              "  <div id=\"df-34e335ed-a855-4247-90c0-b2b0c8cc3ff5\">\n",
              "    <div class=\"colab-df-container\">\n",
              "      <div>\n",
              "<style scoped>\n",
              "    .dataframe tbody tr th:only-of-type {\n",
              "        vertical-align: middle;\n",
              "    }\n",
              "\n",
              "    .dataframe tbody tr th {\n",
              "        vertical-align: top;\n",
              "    }\n",
              "\n",
              "    .dataframe thead th {\n",
              "        text-align: right;\n",
              "    }\n",
              "</style>\n",
              "<table border=\"1\" class=\"dataframe\">\n",
              "  <thead>\n",
              "    <tr style=\"text-align: right;\">\n",
              "      <th></th>\n",
              "      <th>PassengerId</th>\n",
              "      <th>Survived</th>\n",
              "      <th>Pclass</th>\n",
              "      <th>Sex</th>\n",
              "      <th>Age</th>\n",
              "      <th>SibSp</th>\n",
              "      <th>Parch</th>\n",
              "      <th>Fare</th>\n",
              "      <th>Embarked</th>\n",
              "    </tr>\n",
              "  </thead>\n",
              "  <tbody>\n",
              "    <tr>\n",
              "      <th>0</th>\n",
              "      <td>1</td>\n",
              "      <td>0</td>\n",
              "      <td>3</td>\n",
              "      <td>male</td>\n",
              "      <td>22.0</td>\n",
              "      <td>1</td>\n",
              "      <td>0</td>\n",
              "      <td>7.2500</td>\n",
              "      <td>S</td>\n",
              "    </tr>\n",
              "    <tr>\n",
              "      <th>1</th>\n",
              "      <td>2</td>\n",
              "      <td>1</td>\n",
              "      <td>1</td>\n",
              "      <td>female</td>\n",
              "      <td>38.0</td>\n",
              "      <td>1</td>\n",
              "      <td>0</td>\n",
              "      <td>71.2833</td>\n",
              "      <td>C</td>\n",
              "    </tr>\n",
              "    <tr>\n",
              "      <th>2</th>\n",
              "      <td>3</td>\n",
              "      <td>1</td>\n",
              "      <td>3</td>\n",
              "      <td>female</td>\n",
              "      <td>26.0</td>\n",
              "      <td>0</td>\n",
              "      <td>0</td>\n",
              "      <td>7.9250</td>\n",
              "      <td>S</td>\n",
              "    </tr>\n",
              "    <tr>\n",
              "      <th>3</th>\n",
              "      <td>4</td>\n",
              "      <td>1</td>\n",
              "      <td>1</td>\n",
              "      <td>female</td>\n",
              "      <td>35.0</td>\n",
              "      <td>1</td>\n",
              "      <td>0</td>\n",
              "      <td>53.1000</td>\n",
              "      <td>S</td>\n",
              "    </tr>\n",
              "    <tr>\n",
              "      <th>4</th>\n",
              "      <td>5</td>\n",
              "      <td>0</td>\n",
              "      <td>3</td>\n",
              "      <td>male</td>\n",
              "      <td>35.0</td>\n",
              "      <td>0</td>\n",
              "      <td>0</td>\n",
              "      <td>8.0500</td>\n",
              "      <td>S</td>\n",
              "    </tr>\n",
              "  </tbody>\n",
              "</table>\n",
              "</div>\n",
              "      <button class=\"colab-df-convert\" onclick=\"convertToInteractive('df-34e335ed-a855-4247-90c0-b2b0c8cc3ff5')\"\n",
              "              title=\"Convert this dataframe to an interactive table.\"\n",
              "              style=\"display:none;\">\n",
              "\n",
              "  <svg xmlns=\"http://www.w3.org/2000/svg\" height=\"24px\"viewBox=\"0 0 24 24\"\n",
              "       width=\"24px\">\n",
              "    <path d=\"M0 0h24v24H0V0z\" fill=\"none\"/>\n",
              "    <path d=\"M18.56 5.44l.94 2.06.94-2.06 2.06-.94-2.06-.94-.94-2.06-.94 2.06-2.06.94zm-11 1L8.5 8.5l.94-2.06 2.06-.94-2.06-.94L8.5 2.5l-.94 2.06-2.06.94zm10 10l.94 2.06.94-2.06 2.06-.94-2.06-.94-.94-2.06-.94 2.06-2.06.94z\"/><path d=\"M17.41 7.96l-1.37-1.37c-.4-.4-.92-.59-1.43-.59-.52 0-1.04.2-1.43.59L10.3 9.45l-7.72 7.72c-.78.78-.78 2.05 0 2.83L4 21.41c.39.39.9.59 1.41.59.51 0 1.02-.2 1.41-.59l7.78-7.78 2.81-2.81c.8-.78.8-2.07 0-2.86zM5.41 20L4 18.59l7.72-7.72 1.47 1.35L5.41 20z\"/>\n",
              "  </svg>\n",
              "      </button>\n",
              "\n",
              "\n",
              "\n",
              "    <div id=\"df-d7288d2a-98d2-444d-8192-b07c070fee34\">\n",
              "      <button class=\"colab-df-quickchart\" onclick=\"quickchart('df-d7288d2a-98d2-444d-8192-b07c070fee34')\"\n",
              "              title=\"Suggest charts.\"\n",
              "              style=\"display:none;\">\n",
              "\n",
              "<svg xmlns=\"http://www.w3.org/2000/svg\" height=\"24px\"viewBox=\"0 0 24 24\"\n",
              "     width=\"24px\">\n",
              "    <g>\n",
              "        <path d=\"M19 3H5c-1.1 0-2 .9-2 2v14c0 1.1.9 2 2 2h14c1.1 0 2-.9 2-2V5c0-1.1-.9-2-2-2zM9 17H7v-7h2v7zm4 0h-2V7h2v10zm4 0h-2v-4h2v4z\"/>\n",
              "    </g>\n",
              "</svg>\n",
              "      </button>\n",
              "    </div>\n",
              "\n",
              "<style>\n",
              "  .colab-df-quickchart {\n",
              "    background-color: #E8F0FE;\n",
              "    border: none;\n",
              "    border-radius: 50%;\n",
              "    cursor: pointer;\n",
              "    display: none;\n",
              "    fill: #1967D2;\n",
              "    height: 32px;\n",
              "    padding: 0 0 0 0;\n",
              "    width: 32px;\n",
              "  }\n",
              "\n",
              "  .colab-df-quickchart:hover {\n",
              "    background-color: #E2EBFA;\n",
              "    box-shadow: 0px 1px 2px rgba(60, 64, 67, 0.3), 0px 1px 3px 1px rgba(60, 64, 67, 0.15);\n",
              "    fill: #174EA6;\n",
              "  }\n",
              "\n",
              "  [theme=dark] .colab-df-quickchart {\n",
              "    background-color: #3B4455;\n",
              "    fill: #D2E3FC;\n",
              "  }\n",
              "\n",
              "  [theme=dark] .colab-df-quickchart:hover {\n",
              "    background-color: #434B5C;\n",
              "    box-shadow: 0px 1px 3px 1px rgba(0, 0, 0, 0.15);\n",
              "    filter: drop-shadow(0px 1px 2px rgba(0, 0, 0, 0.3));\n",
              "    fill: #FFFFFF;\n",
              "  }\n",
              "</style>\n",
              "\n",
              "    <script>\n",
              "      async function quickchart(key) {\n",
              "        const containerElement = document.querySelector('#' + key);\n",
              "        const charts = await google.colab.kernel.invokeFunction(\n",
              "            'suggestCharts', [key], {});\n",
              "      }\n",
              "    </script>\n",
              "\n",
              "      <script>\n",
              "\n",
              "function displayQuickchartButton(domScope) {\n",
              "  let quickchartButtonEl =\n",
              "    domScope.querySelector('#df-d7288d2a-98d2-444d-8192-b07c070fee34 button.colab-df-quickchart');\n",
              "  quickchartButtonEl.style.display =\n",
              "    google.colab.kernel.accessAllowed ? 'block' : 'none';\n",
              "}\n",
              "\n",
              "        displayQuickchartButton(document);\n",
              "      </script>\n",
              "      <style>\n",
              "    .colab-df-container {\n",
              "      display:flex;\n",
              "      flex-wrap:wrap;\n",
              "      gap: 12px;\n",
              "    }\n",
              "\n",
              "    .colab-df-convert {\n",
              "      background-color: #E8F0FE;\n",
              "      border: none;\n",
              "      border-radius: 50%;\n",
              "      cursor: pointer;\n",
              "      display: none;\n",
              "      fill: #1967D2;\n",
              "      height: 32px;\n",
              "      padding: 0 0 0 0;\n",
              "      width: 32px;\n",
              "    }\n",
              "\n",
              "    .colab-df-convert:hover {\n",
              "      background-color: #E2EBFA;\n",
              "      box-shadow: 0px 1px 2px rgba(60, 64, 67, 0.3), 0px 1px 3px 1px rgba(60, 64, 67, 0.15);\n",
              "      fill: #174EA6;\n",
              "    }\n",
              "\n",
              "    [theme=dark] .colab-df-convert {\n",
              "      background-color: #3B4455;\n",
              "      fill: #D2E3FC;\n",
              "    }\n",
              "\n",
              "    [theme=dark] .colab-df-convert:hover {\n",
              "      background-color: #434B5C;\n",
              "      box-shadow: 0px 1px 3px 1px rgba(0, 0, 0, 0.15);\n",
              "      filter: drop-shadow(0px 1px 2px rgba(0, 0, 0, 0.3));\n",
              "      fill: #FFFFFF;\n",
              "    }\n",
              "  </style>\n",
              "\n",
              "      <script>\n",
              "        const buttonEl =\n",
              "          document.querySelector('#df-34e335ed-a855-4247-90c0-b2b0c8cc3ff5 button.colab-df-convert');\n",
              "        buttonEl.style.display =\n",
              "          google.colab.kernel.accessAllowed ? 'block' : 'none';\n",
              "\n",
              "        async function convertToInteractive(key) {\n",
              "          const element = document.querySelector('#df-34e335ed-a855-4247-90c0-b2b0c8cc3ff5');\n",
              "          const dataTable =\n",
              "            await google.colab.kernel.invokeFunction('convertToInteractive',\n",
              "                                                     [key], {});\n",
              "          if (!dataTable) return;\n",
              "\n",
              "          const docLinkHtml = 'Like what you see? Visit the ' +\n",
              "            '<a target=\"_blank\" href=https://colab.research.google.com/notebooks/data_table.ipynb>data table notebook</a>'\n",
              "            + ' to learn more about interactive tables.';\n",
              "          element.innerHTML = '';\n",
              "          dataTable['output_type'] = 'display_data';\n",
              "          await google.colab.output.renderOutput(dataTable, element);\n",
              "          const docLink = document.createElement('div');\n",
              "          docLink.innerHTML = docLinkHtml;\n",
              "          element.appendChild(docLink);\n",
              "        }\n",
              "      </script>\n",
              "    </div>\n",
              "  </div>\n"
            ]
          },
          "metadata": {},
          "execution_count": 14
        }
      ]
    },
    {
      "cell_type": "code",
      "source": [
        "df.info()"
      ],
      "metadata": {
        "colab": {
          "base_uri": "https://localhost:8080/"
        },
        "id": "ZZGVNiSUA3N-",
        "outputId": "d9f24d0a-6495-4a83-d81b-9f4a8fb33786"
      },
      "execution_count": 15,
      "outputs": [
        {
          "output_type": "stream",
          "name": "stdout",
          "text": [
            "<class 'pandas.core.frame.DataFrame'>\n",
            "Int64Index: 889 entries, 0 to 890\n",
            "Data columns (total 9 columns):\n",
            " #   Column       Non-Null Count  Dtype  \n",
            "---  ------       --------------  -----  \n",
            " 0   PassengerId  889 non-null    int64  \n",
            " 1   Survived     889 non-null    int64  \n",
            " 2   Pclass       889 non-null    int64  \n",
            " 3   Sex          889 non-null    object \n",
            " 4   Age          889 non-null    float64\n",
            " 5   SibSp        889 non-null    int64  \n",
            " 6   Parch        889 non-null    int64  \n",
            " 7   Fare         889 non-null    float64\n",
            " 8   Embarked     889 non-null    object \n",
            "dtypes: float64(2), int64(5), object(2)\n",
            "memory usage: 69.5+ KB\n"
          ]
        }
      ]
    },
    {
      "cell_type": "code",
      "source": [
        "EmbarkedColumnDummy = pd.get_dummies(df['Embarked']) #get dummies encodes categorical variable to 1 or 0\n",
        "SexColumnDummy = pd.get_dummies(df['Sex'])"
      ],
      "metadata": {
        "id": "luMvnXzaBD6p"
      },
      "execution_count": 16,
      "outputs": []
    },
    {
      "cell_type": "code",
      "source": [
        "df = pd.concat((df, EmbarkedColumnDummy,SexColumnDummy), axis=1)"
      ],
      "metadata": {
        "id": "F0loATCy2gAp"
      },
      "execution_count": 17,
      "outputs": []
    },
    {
      "cell_type": "code",
      "source": [
        "df.head()"
      ],
      "metadata": {
        "colab": {
          "base_uri": "https://localhost:8080/",
          "height": 206
        },
        "id": "mLSsJ8Yv2uFw",
        "outputId": "6b4ab268-fc45-48df-cd1e-b22b80c1396f"
      },
      "execution_count": 18,
      "outputs": [
        {
          "output_type": "execute_result",
          "data": {
            "text/plain": [
              "   PassengerId  Survived  Pclass     Sex   Age  SibSp  Parch     Fare  \\\n",
              "0            1         0       3    male  22.0      1      0   7.2500   \n",
              "1            2         1       1  female  38.0      1      0  71.2833   \n",
              "2            3         1       3  female  26.0      0      0   7.9250   \n",
              "3            4         1       1  female  35.0      1      0  53.1000   \n",
              "4            5         0       3    male  35.0      0      0   8.0500   \n",
              "\n",
              "  Embarked  C  Q  S  female  male  \n",
              "0        S  0  0  1       0     1  \n",
              "1        C  1  0  0       1     0  \n",
              "2        S  0  0  1       1     0  \n",
              "3        S  0  0  1       1     0  \n",
              "4        S  0  0  1       0     1  "
            ],
            "text/html": [
              "\n",
              "\n",
              "  <div id=\"df-6cbe2f58-98df-4b2b-bafd-da90bcc0132b\">\n",
              "    <div class=\"colab-df-container\">\n",
              "      <div>\n",
              "<style scoped>\n",
              "    .dataframe tbody tr th:only-of-type {\n",
              "        vertical-align: middle;\n",
              "    }\n",
              "\n",
              "    .dataframe tbody tr th {\n",
              "        vertical-align: top;\n",
              "    }\n",
              "\n",
              "    .dataframe thead th {\n",
              "        text-align: right;\n",
              "    }\n",
              "</style>\n",
              "<table border=\"1\" class=\"dataframe\">\n",
              "  <thead>\n",
              "    <tr style=\"text-align: right;\">\n",
              "      <th></th>\n",
              "      <th>PassengerId</th>\n",
              "      <th>Survived</th>\n",
              "      <th>Pclass</th>\n",
              "      <th>Sex</th>\n",
              "      <th>Age</th>\n",
              "      <th>SibSp</th>\n",
              "      <th>Parch</th>\n",
              "      <th>Fare</th>\n",
              "      <th>Embarked</th>\n",
              "      <th>C</th>\n",
              "      <th>Q</th>\n",
              "      <th>S</th>\n",
              "      <th>female</th>\n",
              "      <th>male</th>\n",
              "    </tr>\n",
              "  </thead>\n",
              "  <tbody>\n",
              "    <tr>\n",
              "      <th>0</th>\n",
              "      <td>1</td>\n",
              "      <td>0</td>\n",
              "      <td>3</td>\n",
              "      <td>male</td>\n",
              "      <td>22.0</td>\n",
              "      <td>1</td>\n",
              "      <td>0</td>\n",
              "      <td>7.2500</td>\n",
              "      <td>S</td>\n",
              "      <td>0</td>\n",
              "      <td>0</td>\n",
              "      <td>1</td>\n",
              "      <td>0</td>\n",
              "      <td>1</td>\n",
              "    </tr>\n",
              "    <tr>\n",
              "      <th>1</th>\n",
              "      <td>2</td>\n",
              "      <td>1</td>\n",
              "      <td>1</td>\n",
              "      <td>female</td>\n",
              "      <td>38.0</td>\n",
              "      <td>1</td>\n",
              "      <td>0</td>\n",
              "      <td>71.2833</td>\n",
              "      <td>C</td>\n",
              "      <td>1</td>\n",
              "      <td>0</td>\n",
              "      <td>0</td>\n",
              "      <td>1</td>\n",
              "      <td>0</td>\n",
              "    </tr>\n",
              "    <tr>\n",
              "      <th>2</th>\n",
              "      <td>3</td>\n",
              "      <td>1</td>\n",
              "      <td>3</td>\n",
              "      <td>female</td>\n",
              "      <td>26.0</td>\n",
              "      <td>0</td>\n",
              "      <td>0</td>\n",
              "      <td>7.9250</td>\n",
              "      <td>S</td>\n",
              "      <td>0</td>\n",
              "      <td>0</td>\n",
              "      <td>1</td>\n",
              "      <td>1</td>\n",
              "      <td>0</td>\n",
              "    </tr>\n",
              "    <tr>\n",
              "      <th>3</th>\n",
              "      <td>4</td>\n",
              "      <td>1</td>\n",
              "      <td>1</td>\n",
              "      <td>female</td>\n",
              "      <td>35.0</td>\n",
              "      <td>1</td>\n",
              "      <td>0</td>\n",
              "      <td>53.1000</td>\n",
              "      <td>S</td>\n",
              "      <td>0</td>\n",
              "      <td>0</td>\n",
              "      <td>1</td>\n",
              "      <td>1</td>\n",
              "      <td>0</td>\n",
              "    </tr>\n",
              "    <tr>\n",
              "      <th>4</th>\n",
              "      <td>5</td>\n",
              "      <td>0</td>\n",
              "      <td>3</td>\n",
              "      <td>male</td>\n",
              "      <td>35.0</td>\n",
              "      <td>0</td>\n",
              "      <td>0</td>\n",
              "      <td>8.0500</td>\n",
              "      <td>S</td>\n",
              "      <td>0</td>\n",
              "      <td>0</td>\n",
              "      <td>1</td>\n",
              "      <td>0</td>\n",
              "      <td>1</td>\n",
              "    </tr>\n",
              "  </tbody>\n",
              "</table>\n",
              "</div>\n",
              "      <button class=\"colab-df-convert\" onclick=\"convertToInteractive('df-6cbe2f58-98df-4b2b-bafd-da90bcc0132b')\"\n",
              "              title=\"Convert this dataframe to an interactive table.\"\n",
              "              style=\"display:none;\">\n",
              "\n",
              "  <svg xmlns=\"http://www.w3.org/2000/svg\" height=\"24px\"viewBox=\"0 0 24 24\"\n",
              "       width=\"24px\">\n",
              "    <path d=\"M0 0h24v24H0V0z\" fill=\"none\"/>\n",
              "    <path d=\"M18.56 5.44l.94 2.06.94-2.06 2.06-.94-2.06-.94-.94-2.06-.94 2.06-2.06.94zm-11 1L8.5 8.5l.94-2.06 2.06-.94-2.06-.94L8.5 2.5l-.94 2.06-2.06.94zm10 10l.94 2.06.94-2.06 2.06-.94-2.06-.94-.94-2.06-.94 2.06-2.06.94z\"/><path d=\"M17.41 7.96l-1.37-1.37c-.4-.4-.92-.59-1.43-.59-.52 0-1.04.2-1.43.59L10.3 9.45l-7.72 7.72c-.78.78-.78 2.05 0 2.83L4 21.41c.39.39.9.59 1.41.59.51 0 1.02-.2 1.41-.59l7.78-7.78 2.81-2.81c.8-.78.8-2.07 0-2.86zM5.41 20L4 18.59l7.72-7.72 1.47 1.35L5.41 20z\"/>\n",
              "  </svg>\n",
              "      </button>\n",
              "\n",
              "\n",
              "\n",
              "    <div id=\"df-9ab34464-9437-40c7-a2fb-af2d71f128eb\">\n",
              "      <button class=\"colab-df-quickchart\" onclick=\"quickchart('df-9ab34464-9437-40c7-a2fb-af2d71f128eb')\"\n",
              "              title=\"Suggest charts.\"\n",
              "              style=\"display:none;\">\n",
              "\n",
              "<svg xmlns=\"http://www.w3.org/2000/svg\" height=\"24px\"viewBox=\"0 0 24 24\"\n",
              "     width=\"24px\">\n",
              "    <g>\n",
              "        <path d=\"M19 3H5c-1.1 0-2 .9-2 2v14c0 1.1.9 2 2 2h14c1.1 0 2-.9 2-2V5c0-1.1-.9-2-2-2zM9 17H7v-7h2v7zm4 0h-2V7h2v10zm4 0h-2v-4h2v4z\"/>\n",
              "    </g>\n",
              "</svg>\n",
              "      </button>\n",
              "    </div>\n",
              "\n",
              "<style>\n",
              "  .colab-df-quickchart {\n",
              "    background-color: #E8F0FE;\n",
              "    border: none;\n",
              "    border-radius: 50%;\n",
              "    cursor: pointer;\n",
              "    display: none;\n",
              "    fill: #1967D2;\n",
              "    height: 32px;\n",
              "    padding: 0 0 0 0;\n",
              "    width: 32px;\n",
              "  }\n",
              "\n",
              "  .colab-df-quickchart:hover {\n",
              "    background-color: #E2EBFA;\n",
              "    box-shadow: 0px 1px 2px rgba(60, 64, 67, 0.3), 0px 1px 3px 1px rgba(60, 64, 67, 0.15);\n",
              "    fill: #174EA6;\n",
              "  }\n",
              "\n",
              "  [theme=dark] .colab-df-quickchart {\n",
              "    background-color: #3B4455;\n",
              "    fill: #D2E3FC;\n",
              "  }\n",
              "\n",
              "  [theme=dark] .colab-df-quickchart:hover {\n",
              "    background-color: #434B5C;\n",
              "    box-shadow: 0px 1px 3px 1px rgba(0, 0, 0, 0.15);\n",
              "    filter: drop-shadow(0px 1px 2px rgba(0, 0, 0, 0.3));\n",
              "    fill: #FFFFFF;\n",
              "  }\n",
              "</style>\n",
              "\n",
              "    <script>\n",
              "      async function quickchart(key) {\n",
              "        const containerElement = document.querySelector('#' + key);\n",
              "        const charts = await google.colab.kernel.invokeFunction(\n",
              "            'suggestCharts', [key], {});\n",
              "      }\n",
              "    </script>\n",
              "\n",
              "      <script>\n",
              "\n",
              "function displayQuickchartButton(domScope) {\n",
              "  let quickchartButtonEl =\n",
              "    domScope.querySelector('#df-9ab34464-9437-40c7-a2fb-af2d71f128eb button.colab-df-quickchart');\n",
              "  quickchartButtonEl.style.display =\n",
              "    google.colab.kernel.accessAllowed ? 'block' : 'none';\n",
              "}\n",
              "\n",
              "        displayQuickchartButton(document);\n",
              "      </script>\n",
              "      <style>\n",
              "    .colab-df-container {\n",
              "      display:flex;\n",
              "      flex-wrap:wrap;\n",
              "      gap: 12px;\n",
              "    }\n",
              "\n",
              "    .colab-df-convert {\n",
              "      background-color: #E8F0FE;\n",
              "      border: none;\n",
              "      border-radius: 50%;\n",
              "      cursor: pointer;\n",
              "      display: none;\n",
              "      fill: #1967D2;\n",
              "      height: 32px;\n",
              "      padding: 0 0 0 0;\n",
              "      width: 32px;\n",
              "    }\n",
              "\n",
              "    .colab-df-convert:hover {\n",
              "      background-color: #E2EBFA;\n",
              "      box-shadow: 0px 1px 2px rgba(60, 64, 67, 0.3), 0px 1px 3px 1px rgba(60, 64, 67, 0.15);\n",
              "      fill: #174EA6;\n",
              "    }\n",
              "\n",
              "    [theme=dark] .colab-df-convert {\n",
              "      background-color: #3B4455;\n",
              "      fill: #D2E3FC;\n",
              "    }\n",
              "\n",
              "    [theme=dark] .colab-df-convert:hover {\n",
              "      background-color: #434B5C;\n",
              "      box-shadow: 0px 1px 3px 1px rgba(0, 0, 0, 0.15);\n",
              "      filter: drop-shadow(0px 1px 2px rgba(0, 0, 0, 0.3));\n",
              "      fill: #FFFFFF;\n",
              "    }\n",
              "  </style>\n",
              "\n",
              "      <script>\n",
              "        const buttonEl =\n",
              "          document.querySelector('#df-6cbe2f58-98df-4b2b-bafd-da90bcc0132b button.colab-df-convert');\n",
              "        buttonEl.style.display =\n",
              "          google.colab.kernel.accessAllowed ? 'block' : 'none';\n",
              "\n",
              "        async function convertToInteractive(key) {\n",
              "          const element = document.querySelector('#df-6cbe2f58-98df-4b2b-bafd-da90bcc0132b');\n",
              "          const dataTable =\n",
              "            await google.colab.kernel.invokeFunction('convertToInteractive',\n",
              "                                                     [key], {});\n",
              "          if (!dataTable) return;\n",
              "\n",
              "          const docLinkHtml = 'Like what you see? Visit the ' +\n",
              "            '<a target=\"_blank\" href=https://colab.research.google.com/notebooks/data_table.ipynb>data table notebook</a>'\n",
              "            + ' to learn more about interactive tables.';\n",
              "          element.innerHTML = '';\n",
              "          dataTable['output_type'] = 'display_data';\n",
              "          await google.colab.output.renderOutput(dataTable, element);\n",
              "          const docLink = document.createElement('div');\n",
              "          docLink.innerHTML = docLinkHtml;\n",
              "          element.appendChild(docLink);\n",
              "        }\n",
              "      </script>\n",
              "    </div>\n",
              "  </div>\n"
            ]
          },
          "metadata": {},
          "execution_count": 18
        }
      ]
    },
    {
      "cell_type": "code",
      "source": [
        "#remember to drop the redundant columns\n",
        "df = df.drop(['Sex', 'Embarked'], axis = 1)"
      ],
      "metadata": {
        "id": "QAj2pcEQ2wNt"
      },
      "execution_count": 19,
      "outputs": []
    },
    {
      "cell_type": "code",
      "source": [
        "#seperate the dataframe into x and y\n",
        "x= df.values #x has all the values\n",
        "y = df['Survived'].values # this is the target variable.. the"
      ],
      "metadata": {
        "id": "1GPSkwwG8IlY"
      },
      "execution_count": 20,
      "outputs": []
    },
    {
      "cell_type": "markdown",
      "source": [
        "Separating Features and Target: In many machine learning tasks, you have a dataset with features (input variables) and a target variable (the variable you want to predict or classify). By extracting values, you can separate the features (x) from the target variable (y), making it easier to feed the data into the model."
      ],
      "metadata": {
        "id": "9bsRgFefBThz"
      }
    },
    {
      "cell_type": "code",
      "source": [
        "#delete the survived column from X\n",
        "X=np.delete(x,1,axis=1)"
      ],
      "metadata": {
        "id": "zyjRRef28VX3"
      },
      "execution_count": 21,
      "outputs": []
    },
    {
      "cell_type": "markdown",
      "source": [
        "The code X = np.delete(x, 1, axis=1) is using the NumPy library to delete a column from the NumPy array x. Let me break down the code for you:\n",
        "\n",
        "np: This is an alias for the NumPy library, which is a powerful library for numerical and array operations in Python.\n",
        "\n",
        "x: This is the NumPy array that contains the data from the DataFrame. Presumably, x was obtained using x = df.values, as mentioned in your earlier code.\n",
        "\n",
        "1: This argument represents the index of the column to delete. In NumPy indexing, columns are represented by the second dimension, and indexing starts at 0. So, 1 corresponds to the second column in the array x.\n",
        "\n",
        "axis=1: This specifies the axis along which the deletion should happen. Since we want to delete a column, we set axis=1. If you set axis=0, it would delete a row instead."
      ],
      "metadata": {
        "id": "FyJuk9POHxmg"
      }
    },
    {
      "cell_type": "markdown",
      "source": [
        "**Split the dataset**"
      ],
      "metadata": {
        "id": "mvorZOLAH2xX"
      }
    },
    {
      "cell_type": "code",
      "source": [
        "from sklearn.model_selection import train_test_split\n",
        "X_train, X_test, y_train, y_test = train_test_split(X, y, test_size=0.3, random_state=0)"
      ],
      "metadata": {
        "id": "6RiEKk8YHvk9"
      },
      "execution_count": 22,
      "outputs": []
    },
    {
      "cell_type": "markdown",
      "source": [
        "**1. Decision tre classifier!**"
      ],
      "metadata": {
        "id": "LlY2KoyuIWMS"
      }
    },
    {
      "cell_type": "code",
      "source": [
        "from sklearn import tree\n",
        "dt_clf = tree.DecisionTreeClassifier(max_depth=5) #The max_depth parameter is used to limit the depth of the decision tree to avoid overfitting.\n",
        "dt_clf.fit(X_train, y_train) #Train the decision tree classifier using the training data X_train and y_train using the fit() method.\n",
        "accuracy = dt_clf.score(X_test, y_test)#Evaluate the classifier's accuracy on the test set using the score() method. The accuracy is then stored in the variable accuracy.\n",
        "print(\"Accuracy:\", accuracy)\n",
        "#"
      ],
      "metadata": {
        "colab": {
          "base_uri": "https://localhost:8080/"
        },
        "id": "yyEQRMSPIpCL",
        "outputId": "b3998a8c-eadd-4a2d-da15-c7ef21f8ed2a"
      },
      "execution_count": 23,
      "outputs": [
        {
          "output_type": "stream",
          "name": "stdout",
          "text": [
            "Accuracy: 0.7827715355805244\n"
          ]
        }
      ]
    },
    {
      "cell_type": "code",
      "source": [
        "#The code you provided is for predicting the target values (y_pred) using\n",
        "#the trained decision tree classifier (dt_clf)\n",
        "#and then calculating the accuracy of the model on the test set.\n",
        "\n",
        "y_pred=dt_clf.predict(X_test) #In this line, you are using the trained decision tree classifier (dt_clf) to make predictions on the test set (X_test). The predicted values will be stored in the variable y_pred.\n",
        "dt_clf.score(X_test, y_test) #In this line, you are using the score() method of the decision tree classifier to calculate the accuracy of the model on the test set."
      ],
      "metadata": {
        "colab": {
          "base_uri": "https://localhost:8080/"
        },
        "id": "EWPKC5OAJCtU",
        "outputId": "f1820005-9278-44eb-eb9b-5585f6ad32a7"
      },
      "execution_count": 24,
      "outputs": [
        {
          "output_type": "execute_result",
          "data": {
            "text/plain": [
              "0.7827715355805244"
            ]
          },
          "metadata": {},
          "execution_count": 24
        }
      ]
    },
    {
      "cell_type": "code",
      "source": [
        "y_pred = dt_clf.predict(X_test)\n",
        "\n",
        "from sklearn.metrics import confusion_matrix\n",
        "cm =confusion_matrix(y_test, y_pred)\n",
        "print(\"Confusion Matrix:\")\n",
        "print(cm)"
      ],
      "metadata": {
        "colab": {
          "base_uri": "https://localhost:8080/"
        },
        "id": "YjjN33VLNG0U",
        "outputId": "3abb3acb-0665-4dca-9f78-58d54f4b7bca"
      },
      "execution_count": 31,
      "outputs": [
        {
          "output_type": "stream",
          "name": "stdout",
          "text": [
            "Confusion Matrix:\n",
            "[[136  21]\n",
            " [ 37  73]]\n"
          ]
        }
      ]
    },
    {
      "cell_type": "markdown",
      "source": [
        "![1_3yGLac6F4mTENnj5dBNvNQ.jpg](data:image/jpeg;base64,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)"
      ],
      "metadata": {
        "id": "HHFkkw99OWbW"
      }
    },
    {
      "cell_type": "markdown",
      "source": [
        "**2.Random forest classifier**"
      ],
      "metadata": {
        "id": "rXSqbTDzFv-c"
      }
    },
    {
      "cell_type": "code",
      "source": [
        "from sklearn import ensemble\n",
        "rf_clf = ensemble.RandomForestClassifier(n_estimators=100)\n",
        "rf_clf.fit(X_train, y_train)\n",
        "rf_clf.score(X_test, y_test)"
      ],
      "metadata": {
        "colab": {
          "base_uri": "https://localhost:8080/"
        },
        "id": "PEo3gLZpN5Qd",
        "outputId": "98c034bc-e746-4987-ad9e-ad86edbb740b"
      },
      "execution_count": 32,
      "outputs": [
        {
          "output_type": "execute_result",
          "data": {
            "text/plain": [
              "0.7715355805243446"
            ]
          },
          "metadata": {},
          "execution_count": 32
        }
      ]
    },
    {
      "cell_type": "code",
      "source": [
        "y_pred_2 = rf_clf.predict(X_test)\n",
        "\n",
        "from sklearn.metrics import confusion_matrix\n",
        "cm =confusion_matrix(y_test, y_pred_2)\n",
        "print(\"Confusion Matrix:\")\n",
        "print(cm)"
      ],
      "metadata": {
        "colab": {
          "base_uri": "https://localhost:8080/"
        },
        "id": "E81jIHWrGMXU",
        "outputId": "4f9306ee-95b1-4b9a-9775-c6451d571490"
      },
      "execution_count": 34,
      "outputs": [
        {
          "output_type": "stream",
          "name": "stdout",
          "text": [
            "Confusion Matrix:\n",
            "[[133  24]\n",
            " [ 37  73]]\n"
          ]
        }
      ]
    },
    {
      "cell_type": "markdown",
      "source": [
        "**3.graient boosting classifier**"
      ],
      "metadata": {
        "id": "Eoql5WceHQBC"
      }
    },
    {
      "cell_type": "code",
      "source": [
        "gb_clf = ensemble.GradientBoostingClassifier()\n",
        "gb_clf.fit(X_train, y_train)\n",
        "gb_clf.score(X_test, y_test)"
      ],
      "metadata": {
        "colab": {
          "base_uri": "https://localhost:8080/"
        },
        "id": "pYIma77eHKuw",
        "outputId": "1c3493c3-375d-4110-e933-3d8854be62f9"
      },
      "execution_count": 49,
      "outputs": [
        {
          "output_type": "execute_result",
          "data": {
            "text/plain": [
              "0.7902621722846442"
            ]
          },
          "metadata": {},
          "execution_count": 49
        }
      ]
    },
    {
      "cell_type": "code",
      "source": [
        "#tune the booster with hyperparameter\n",
        "gb_clf = ensemble.GradientBoostingClassifier(n_estimators = 100)\n",
        "gb_clf.fit(X_train, y_train)\n",
        "gb_clf.score(X_test, y_test)\n",
        "#no difference"
      ],
      "metadata": {
        "colab": {
          "base_uri": "https://localhost:8080/"
        },
        "id": "jAdVpDajH-nI",
        "outputId": "5a46f348-843a-48d5-ba38-37ab2d261030"
      },
      "execution_count": 53,
      "outputs": [
        {
          "output_type": "execute_result",
          "data": {
            "text/plain": [
              "0.7902621722846442"
            ]
          },
          "metadata": {},
          "execution_count": 53
        }
      ]
    },
    {
      "cell_type": "markdown",
      "source": [
        "**3.Naive Bayes Classifier**"
      ],
      "metadata": {
        "id": "kwYYO-3kI2M3"
      }
    },
    {
      "cell_type": "code",
      "source": [
        "from sklearn.naive_bayes import GaussianNB\n",
        "nb_clf = GaussianNB()\n",
        "nb_clf.fit(X_train, y_train)\n",
        "nb_clf.score(X_test, y_test)"
      ],
      "metadata": {
        "colab": {
          "base_uri": "https://localhost:8080/"
        },
        "id": "QDCOhHrpIbls",
        "outputId": "239d39b2-c0ce-442d-9b52-e8ca61cd1965"
      },
      "execution_count": 54,
      "outputs": [
        {
          "output_type": "execute_result",
          "data": {
            "text/plain": [
              "0.7602996254681648"
            ]
          },
          "metadata": {},
          "execution_count": 54
        }
      ]
    },
    {
      "cell_type": "markdown",
      "source": [
        "**4.KNN**"
      ],
      "metadata": {
        "id": "jZ4rrEYTOjpT"
      }
    },
    {
      "cell_type": "code",
      "source": [
        "from sklearn.neighbors import KNeighborsClassifier\n",
        "knn_clf = KNeighborsClassifier(n_neighbors=5)\n",
        "knn_clf.fit(X_train, y_train)\n",
        "knn_clf.score(X_test, y_test)"
      ],
      "metadata": {
        "colab": {
          "base_uri": "https://localhost:8080/"
        },
        "id": "j_AYdss3Ok0C",
        "outputId": "236e61a5-d8f4-458f-aab6-106f66df0801"
      },
      "execution_count": 59,
      "outputs": [
        {
          "output_type": "execute_result",
          "data": {
            "text/plain": [
              "0.6254681647940075"
            ]
          },
          "metadata": {},
          "execution_count": 59
        }
      ]
    },
    {
      "cell_type": "markdown",
      "source": [
        "**5.Logistic regression classifier**\n",
        "- best used for categorical data"
      ],
      "metadata": {
        "id": "crpZ5wBhPjcG"
      }
    },
    {
      "cell_type": "code",
      "source": [
        "from sklearn.linear_model import LogisticRegression\n",
        "lr_clf = LogisticRegression()\n",
        "lr_clf.fit(X_train, y_train)\n",
        "lr_clf.score(X_test, y_test)"
      ],
      "metadata": {
        "colab": {
          "base_uri": "https://localhost:8080/"
        },
        "id": "HwTMYqAkPFxT",
        "outputId": "acdaa3ab-de54-42ea-a28d-590d04e7ad5b"
      },
      "execution_count": 62,
      "outputs": [
        {
          "output_type": "stream",
          "name": "stderr",
          "text": [
            "/usr/local/lib/python3.10/dist-packages/sklearn/linear_model/_logistic.py:458: ConvergenceWarning: lbfgs failed to converge (status=1):\n",
            "STOP: TOTAL NO. of ITERATIONS REACHED LIMIT.\n",
            "\n",
            "Increase the number of iterations (max_iter) or scale the data as shown in:\n",
            "    https://scikit-learn.org/stable/modules/preprocessing.html\n",
            "Please also refer to the documentation for alternative solver options:\n",
            "    https://scikit-learn.org/stable/modules/linear_model.html#logistic-regression\n",
            "  n_iter_i = _check_optimize_result(\n"
          ]
        },
        {
          "output_type": "execute_result",
          "data": {
            "text/plain": [
              "0.7640449438202247"
            ]
          },
          "metadata": {},
          "execution_count": 62
        }
      ]
    },
    {
      "cell_type": "markdown",
      "source": [
        "**6.SVM**\n"
      ],
      "metadata": {
        "id": "heHbKsQ6QPws"
      }
    },
    {
      "cell_type": "markdown",
      "source": [],
      "metadata": {
        "id": "nJQQjiilVV9R"
      }
    },
    {
      "cell_type": "code",
      "source": [
        "from sklearn.svm import SVC\n",
        "sv_clf = SVC(probability=True, kernel ='linear')\n",
        "sv_clf.fit(X_train, y_train)\n",
        "sv_clf.score(X_test, y_test)"
      ],
      "metadata": {
        "colab": {
          "base_uri": "https://localhost:8080/"
        },
        "id": "hVIoEaJ6P59M",
        "outputId": "dbd5b5c9-1787-47c8-e43e-f4bfb30b5f94"
      },
      "execution_count": 67,
      "outputs": [
        {
          "output_type": "execute_result",
          "data": {
            "text/plain": [
              "0.7715355805243446"
            ]
          },
          "metadata": {},
          "execution_count": 67
        }
      ]
    },
    {
      "cell_type": "markdown",
      "source": [
        "Pr4ediction probabilities"
      ],
      "metadata": {
        "id": "0i-JlALLWvrY"
      }
    },
    {
      "cell_type": "code",
      "source": [
        "r_probs = [0 for _ in range (len(y_test))]\n",
        "rf_probs = rf_clf.predict_proba(X_test)\n",
        "nb_probs = nb_clf.predict_proba(X_test)\n",
        "dt_probs = dt_clf.predict_proba(X_test)\n",
        "gb_probs = gb_clf.predict_proba(X_test)\n",
        "knn_probs = knn_clf.predict_proba(X_test)\n",
        "lr_probs = lr_clf.predict_proba(X_test)\n",
        "sv_probs = sv_clf.predict_proba(X_test)"
      ],
      "metadata": {
        "id": "YSSLhJT3Qyip"
      },
      "execution_count": 70,
      "outputs": []
    },
    {
      "cell_type": "code",
      "source": [
        "rf_probs = rf_probs[:,1]\n",
        "nb_probs = nb_probs[:,1]\n",
        "dt_probs = dt_probs[:,1]\n",
        "gb_probs = gb_probs[:,1]\n",
        "knn_probs = knn_probs[:,1]\n",
        "lr_probs = lr_probs[:,1]\n",
        "sv_probs = sv_probs[:,1]"
      ],
      "metadata": {
        "id": "-nMoeOTZXlzs"
      },
      "execution_count": 72,
      "outputs": []
    },
    {
      "cell_type": "markdown",
      "source": [
        "#**Performance of the model**"
      ],
      "metadata": {
        "id": "k-KVtAbVYmUl"
      }
    },
    {
      "cell_type": "markdown",
      "source": [
        "The performance of machine learning models is typically measured using various evaluation metrics, which assess how well the model is performing on the test set. The choice of evaluation metrics depends on the type of problem (classification, regression, etc.) and the specific objectives of the task. Here are some common performance metrics for different types of problems:\n",
        "\n",
        "**1. Classification Problems:**\n",
        "\n",
        "   - **Accuracy**: The proportion of correctly classified instances out of the total instances in the test set. It is suitable when the classes are balanced.\n",
        "\n",
        "   - **Precision**: The proportion of true positive predictions out of all positive predictions. It is useful when the cost of false positives is high.\n",
        "\n",
        "   - **Recall (Sensitivity/True Positive Rate)**: The proportion of true positive predictions out of all actual positive instances. It is useful when the cost of false negatives is high.\n",
        "\n",
        "   - **F1 Score**: The harmonic mean of precision and recall. It balances precision and recall when they have significantly different values.\n",
        "\n",
        "   - **ROC Curve (Receiver Operating Characteristic Curve)**: A graphical representation of the trade-off between true positive rate and false positive rate at various classification thresholds.\n",
        "\n",
        "   - **AUC-ROC (Area Under the ROC Curve)**: The area under the ROC curve, which provides a single-value summary of the classifier's performance. The worst AUROC is 0.5, and the best AUROC is 1.0.\n",
        "\n",
        "**2. Regression Problems:**\n",
        "\n",
        "   - **Mean Absolute Error (MAE)**: The average of the absolute differences between predicted and true values.\n",
        "\n",
        "   - **Mean Squared Error (MSE)**: The average of the squared differences between predicted and true values.\n",
        "\n",
        "   - **Root Mean Squared Error (RMSE)**: The square root of MSE, which is useful as it is in the same unit as the target variable.\n",
        "\n",
        "   - **R-squared (R2)**: The proportion of variance in the target variable explained by the model.\n",
        "\n",
        "**3. Clustering Problems:**\n",
        "\n",
        "   - **Silhouette Score**: Measures how similar an object is to its own cluster compared to other clusters. It ranges from -1 to 1, where higher values indicate better-defined clusters.\n",
        "\n",
        "**4. Time Series Forecasting:**\n",
        "\n",
        "   - **Mean Absolute Percentage Error (MAPE)**: The mean of the absolute percentage differences between predicted and true values.\n",
        "\n",
        "   - **Mean Squared Percentage Error (MSPE)**: The mean of the squared percentage differences between predicted and true values.\n",
        "\n",
        "   - **Root Mean Squared Percentage Error (RMSPE)**: The square root of MSPE.\n",
        "\n",
        "These are just a few examples of evaluation metrics. The choice of metrics may vary depending on the specific problem and business requirements. It's essential to select appropriate metrics that align with the goals of the task and to consider the context in which the model will be deployed. Additionally, using cross-validation to assess the model's performance can provide a more robust evaluation, especially when the dataset is limited."
      ],
      "metadata": {
        "id": "Cl6W-AJeYvd0"
      }
    },
    {
      "cell_type": "code",
      "source": [
        "#AUC-ROC\n",
        "from sklearn.metrics import roc_curve, roc_auc_score\n",
        "r_auc = roc_auc_score(y_test, r_probs)\n",
        "rf_auc = roc_auc_score(y_test, rf_probs)\n",
        "nb_auc = roc_auc_score(y_test, nb_probs)\n",
        "dt_auc = roc_auc_score(y_test, dt_probs)\n",
        "gb_auc = roc_auc_score(y_test, gb_probs)\n",
        "knn_auc = roc_auc_score(y_test, knn_probs)\n",
        "lr_auc = roc_auc_score(y_test, lr_probs)\n",
        "sv_auc = roc_auc_score(y_test, sv_probs)"
      ],
      "metadata": {
        "id": "The9iLa9YYCx"
      },
      "execution_count": 74,
      "outputs": []
    },
    {
      "cell_type": "code",
      "source": [
        "print('random prediction : auc roc = %.3f'%(r_auc))\n",
        "print('random fores prediction : auc roc = %.3f'%(rf_auc))\n",
        "print('naive bayes prediction : auc roc = %.3f'%(nb_auc))\n",
        "print('decision treee prediction : auc roc = %.3f'%(dt_auc))\n",
        "print('gradient boost prediction : auc roc = %.3f'%(gb_auc))\n",
        "print('knn prediction : auc roc = %.3f'%(knn_auc))\n",
        "print('linear regression prediction : auc roc = %.3f'%(lr_auc))\n",
        "print('SVM prediction : auc roc = %.3f'%(sv_auc))"
      ],
      "metadata": {
        "colab": {
          "base_uri": "https://localhost:8080/"
        },
        "id": "9obzX-Ocb5ef",
        "outputId": "9c8496b3-f2fa-449b-ff9b-a82984572363"
      },
      "execution_count": 76,
      "outputs": [
        {
          "output_type": "stream",
          "name": "stdout",
          "text": [
            "random prediction : auc roc = 0.500\n",
            "random fores prediction : auc roc = 0.831\n",
            "naive bayes prediction : auc roc = 0.807\n",
            "decision treee prediction : auc roc = 0.810\n",
            "gradient boost prediction : auc roc = 0.828\n",
            "knn prediction : auc roc = 0.603\n",
            "linear regression prediction : auc roc = 0.829\n",
            "SVM prediction : auc roc = 0.816\n"
          ]
        }
      ]
    },
    {
      "cell_type": "markdown",
      "source": [
        "The main difference between regression, classification, clustering, and time series problems lies in the nature of the task and the type of output they aim to produce. Here's a brief explanation of each type:<br><br>\n",
        "\n",
        "Regression Problem:<br>\n",
        "\n",
        "Nature of Task: In a regression problem, the goal is to predict a continuous numerical value or a real number. The output is a continuous function, and the model aims to establish a relationship between input features and the target variable.<br>\n",
        "Example: Predicting house prices, sales revenue, temperature, etc.<br><br>\n",
        "Classification Problem:<br>\n",
        "\n",
        "Nature of Task: In a classification problem, the goal is to predict which category or class an input instance belongs to. The output is a discrete class label from a predefined set of classes.<br>\n",
        "Example: Predicting whether an email is spam or not, classifying images into different objects, predicting the outcome of a medical test (positive/negative).<br><br>\n",
        "Clustering Problem:<br>\n",
        "\n",
        "Nature of Task: In a clustering problem, the goal is to group similar data points into clusters based on their similarities and dissimilarities. It is an unsupervised learning task, meaning there are no predefined class labels.<br>\n",
        "Example: Grouping customers based on their purchase behavior, segmenting data into distinct groups based on their characteristics.<br><br>\n",
        "Time Series Problem:<br>\n",
        "\n",
        "Nature of Task: A time series problem deals with data collected over time at regular intervals. The goal is to forecast future values based on the historical data and patterns in the time series.<br>\n",
        "Example: Predicting future stock prices, forecasting demand for a product over time, predicting electricity consumption for the next month.<br>\n",
        "In summary, the main differences are related to the type of output the models aim to produce:<br><br>\n",
        "\n",
        "Regression: Predicting continuous numerical values.<br>\n",
        "Classification: Assigning discrete class labels.<br>\n",
        "Clustering: Grouping data points into clusters based on similarity.<br>\n",
        "Time Series: Forecasting future values in a time-ordered sequence.<br>\n",
        "Each type of problem requires different modeling approaches, algorithms, and evaluation metrics. The choice of the problem type depends on the nature of the data and the specific objective of the analysis or prediction task.<br>"
      ],
      "metadata": {
        "id": "9B6JOFvxZd2p"
      }
    },
    {
      "cell_type": "markdown",
      "source": [
        "#Conclusion\n",
        "\n",
        "linear regression prediction with a  auc roc of 0.829"
      ],
      "metadata": {
        "id": "kmRBKmKjiskE"
      }
    }
  ]
}